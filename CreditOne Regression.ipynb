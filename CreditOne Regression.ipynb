{
 "cells": [
  {
   "cell_type": "code",
   "execution_count": 13,
   "metadata": {},
   "outputs": [],
   "source": [
    "#imports\n",
    "#numpy, pandas, scipy, math, mathpolotilib\n",
    "import numpy as np\n",
    "import pandas as pd\n",
    "import scipy\n",
    "from math import sqrt\n",
    "import matplotlib.pyplot as plt\n",
    "\n",
    "#estimators\n",
    "from sklearn.ensemble import RandomForestRegressor\n",
    "from sklearn.linear_model import LinearRegression\n",
    "from sklearn.svm import SVR\n",
    "from sklearn import linear_model\n",
    "\n",
    "# para normalizar\n",
    "from sklearn import preprocessing\n",
    "\n",
    "#model metrics\n",
    "from sklearn.metrics import mean_squared_error\n",
    "from sklearn.metrics import r2_score\n",
    "from sklearn.metrics import accuracy_score\n",
    "from sklearn.model_selection import cross_val_score\n",
    "\n",
    "#cross validation\n",
    "from sklearn.cross_validation import train_test_split\n",
    "\n",
    "import os\n",
    "os.chdir(\"C:/Users/Katya/Dropbox/Curso DAyBD/Curso 5/C5 Task 2\")\n"
   ]
  },
  {
   "cell_type": "code",
   "execution_count": 28,
   "metadata": {
    "scrolled": false
   },
   "outputs": [
    {
     "data": {
      "text/html": [
       "<div>\n",
       "<style scoped>\n",
       "    .dataframe tbody tr th:only-of-type {\n",
       "        vertical-align: middle;\n",
       "    }\n",
       "\n",
       "    .dataframe tbody tr th {\n",
       "        vertical-align: top;\n",
       "    }\n",
       "\n",
       "    .dataframe thead th {\n",
       "        text-align: right;\n",
       "    }\n",
       "</style>\n",
       "<table border=\"1\" class=\"dataframe\">\n",
       "  <thead>\n",
       "    <tr style=\"text-align: right;\">\n",
       "      <th></th>\n",
       "      <th>ID</th>\n",
       "      <th>LIMIT_BAL</th>\n",
       "      <th>SEX</th>\n",
       "      <th>EDUCATION</th>\n",
       "      <th>MARRIAGE</th>\n",
       "      <th>AGE</th>\n",
       "      <th>PAY_0</th>\n",
       "      <th>PAY_2</th>\n",
       "      <th>PAY_3</th>\n",
       "      <th>PAY_4</th>\n",
       "      <th>...</th>\n",
       "      <th>BILL_AMT4</th>\n",
       "      <th>BILL_AMT5</th>\n",
       "      <th>BILL_AMT6</th>\n",
       "      <th>PAY_AMT1</th>\n",
       "      <th>PAY_AMT2</th>\n",
       "      <th>PAY_AMT3</th>\n",
       "      <th>PAY_AMT4</th>\n",
       "      <th>PAY_AMT5</th>\n",
       "      <th>PAY_AMT6</th>\n",
       "      <th>default payment next month</th>\n",
       "    </tr>\n",
       "  </thead>\n",
       "  <tbody>\n",
       "    <tr>\n",
       "      <th>0</th>\n",
       "      <td>1</td>\n",
       "      <td>20000</td>\n",
       "      <td>2</td>\n",
       "      <td>2</td>\n",
       "      <td>1</td>\n",
       "      <td>24</td>\n",
       "      <td>2</td>\n",
       "      <td>2</td>\n",
       "      <td>-1</td>\n",
       "      <td>-1</td>\n",
       "      <td>...</td>\n",
       "      <td>0</td>\n",
       "      <td>0</td>\n",
       "      <td>0</td>\n",
       "      <td>0</td>\n",
       "      <td>689</td>\n",
       "      <td>0</td>\n",
       "      <td>0</td>\n",
       "      <td>0</td>\n",
       "      <td>0</td>\n",
       "      <td>1</td>\n",
       "    </tr>\n",
       "    <tr>\n",
       "      <th>1</th>\n",
       "      <td>2</td>\n",
       "      <td>120000</td>\n",
       "      <td>2</td>\n",
       "      <td>2</td>\n",
       "      <td>2</td>\n",
       "      <td>26</td>\n",
       "      <td>-1</td>\n",
       "      <td>2</td>\n",
       "      <td>0</td>\n",
       "      <td>0</td>\n",
       "      <td>...</td>\n",
       "      <td>3272</td>\n",
       "      <td>3455</td>\n",
       "      <td>3261</td>\n",
       "      <td>0</td>\n",
       "      <td>1000</td>\n",
       "      <td>1000</td>\n",
       "      <td>1000</td>\n",
       "      <td>0</td>\n",
       "      <td>2000</td>\n",
       "      <td>1</td>\n",
       "    </tr>\n",
       "    <tr>\n",
       "      <th>2</th>\n",
       "      <td>3</td>\n",
       "      <td>90000</td>\n",
       "      <td>2</td>\n",
       "      <td>2</td>\n",
       "      <td>2</td>\n",
       "      <td>34</td>\n",
       "      <td>0</td>\n",
       "      <td>0</td>\n",
       "      <td>0</td>\n",
       "      <td>0</td>\n",
       "      <td>...</td>\n",
       "      <td>14331</td>\n",
       "      <td>14948</td>\n",
       "      <td>15549</td>\n",
       "      <td>1518</td>\n",
       "      <td>1500</td>\n",
       "      <td>1000</td>\n",
       "      <td>1000</td>\n",
       "      <td>1000</td>\n",
       "      <td>5000</td>\n",
       "      <td>0</td>\n",
       "    </tr>\n",
       "    <tr>\n",
       "      <th>3</th>\n",
       "      <td>4</td>\n",
       "      <td>50000</td>\n",
       "      <td>2</td>\n",
       "      <td>2</td>\n",
       "      <td>1</td>\n",
       "      <td>37</td>\n",
       "      <td>0</td>\n",
       "      <td>0</td>\n",
       "      <td>0</td>\n",
       "      <td>0</td>\n",
       "      <td>...</td>\n",
       "      <td>28314</td>\n",
       "      <td>28959</td>\n",
       "      <td>29547</td>\n",
       "      <td>2000</td>\n",
       "      <td>2019</td>\n",
       "      <td>1200</td>\n",
       "      <td>1100</td>\n",
       "      <td>1069</td>\n",
       "      <td>1000</td>\n",
       "      <td>0</td>\n",
       "    </tr>\n",
       "    <tr>\n",
       "      <th>4</th>\n",
       "      <td>5</td>\n",
       "      <td>50000</td>\n",
       "      <td>1</td>\n",
       "      <td>2</td>\n",
       "      <td>1</td>\n",
       "      <td>57</td>\n",
       "      <td>-1</td>\n",
       "      <td>0</td>\n",
       "      <td>-1</td>\n",
       "      <td>0</td>\n",
       "      <td>...</td>\n",
       "      <td>20940</td>\n",
       "      <td>19146</td>\n",
       "      <td>19131</td>\n",
       "      <td>2000</td>\n",
       "      <td>36681</td>\n",
       "      <td>10000</td>\n",
       "      <td>9000</td>\n",
       "      <td>689</td>\n",
       "      <td>679</td>\n",
       "      <td>0</td>\n",
       "    </tr>\n",
       "  </tbody>\n",
       "</table>\n",
       "<p>5 rows × 25 columns</p>\n",
       "</div>"
      ],
      "text/plain": [
       "   ID  LIMIT_BAL  SEX  EDUCATION  MARRIAGE  AGE  PAY_0  PAY_2  PAY_3  PAY_4  \\\n",
       "0   1      20000    2          2         1   24      2      2     -1     -1   \n",
       "1   2     120000    2          2         2   26     -1      2      0      0   \n",
       "2   3      90000    2          2         2   34      0      0      0      0   \n",
       "3   4      50000    2          2         1   37      0      0      0      0   \n",
       "4   5      50000    1          2         1   57     -1      0     -1      0   \n",
       "\n",
       "              ...              BILL_AMT4  BILL_AMT5  BILL_AMT6  PAY_AMT1  \\\n",
       "0             ...                      0          0          0         0   \n",
       "1             ...                   3272       3455       3261         0   \n",
       "2             ...                  14331      14948      15549      1518   \n",
       "3             ...                  28314      28959      29547      2000   \n",
       "4             ...                  20940      19146      19131      2000   \n",
       "\n",
       "   PAY_AMT2  PAY_AMT3  PAY_AMT4  PAY_AMT5  PAY_AMT6  \\\n",
       "0       689         0         0         0         0   \n",
       "1      1000      1000      1000         0      2000   \n",
       "2      1500      1000      1000      1000      5000   \n",
       "3      2019      1200      1100      1069      1000   \n",
       "4     36681     10000      9000       689       679   \n",
       "\n",
       "   default payment next month  \n",
       "0                           1  \n",
       "1                           1  \n",
       "2                           0  \n",
       "3                           0  \n",
       "4                           0  \n",
       "\n",
       "[5 rows x 25 columns]"
      ]
     },
     "execution_count": 28,
     "metadata": {},
     "output_type": "execute_result"
    }
   ],
   "source": [
    "#data\n",
    "rawData = pd.read_csv('default of credit card clients.csv', header=1)\n",
    "rawData.head()"
   ]
  },
  {
   "cell_type": "code",
   "execution_count": 3,
   "metadata": {},
   "outputs": [],
   "source": [
    "rawData = rawData.drop([\"ID\"], axis=1)"
   ]
  },
  {
   "cell_type": "code",
   "execution_count": 4,
   "metadata": {},
   "outputs": [
    {
     "name": "stdout",
     "output_type": "stream",
     "text": [
      "<class 'pandas.core.frame.DataFrame'>\n",
      "RangeIndex: 30000 entries, 0 to 29999\n",
      "Data columns (total 25 columns):\n",
      "ID                            30000 non-null int64\n",
      "LIMIT_BAL                     30000 non-null int64\n",
      "SEX                           30000 non-null int64\n",
      "EDUCATION                     30000 non-null int64\n",
      "MARRIAGE                      30000 non-null int64\n",
      "AGE                           30000 non-null int64\n",
      "PAY_0                         30000 non-null int64\n",
      "PAY_2                         30000 non-null int64\n",
      "PAY_3                         30000 non-null int64\n",
      "PAY_4                         30000 non-null int64\n",
      "PAY_5                         30000 non-null int64\n",
      "PAY_6                         30000 non-null int64\n",
      "BILL_AMT1                     30000 non-null int64\n",
      "BILL_AMT2                     30000 non-null int64\n",
      "BILL_AMT3                     30000 non-null int64\n",
      "BILL_AMT4                     30000 non-null int64\n",
      "BILL_AMT5                     30000 non-null int64\n",
      "BILL_AMT6                     30000 non-null int64\n",
      "PAY_AMT1                      30000 non-null int64\n",
      "PAY_AMT2                      30000 non-null int64\n",
      "PAY_AMT3                      30000 non-null int64\n",
      "PAY_AMT4                      30000 non-null int64\n",
      "PAY_AMT5                      30000 non-null int64\n",
      "PAY_AMT6                      30000 non-null int64\n",
      "default payment next month    30000 non-null int64\n",
      "dtypes: int64(25)\n",
      "memory usage: 5.7 MB\n"
     ]
    }
   ],
   "source": [
    "rawData.info()"
   ]
  },
  {
   "cell_type": "code",
   "execution_count": 20,
   "metadata": {},
   "outputs": [
    {
     "name": "stdout",
     "output_type": "stream",
     "text": [
      "Summary of feature sample\n"
     ]
    },
    {
     "data": {
      "text/html": [
       "<div>\n",
       "<style scoped>\n",
       "    .dataframe tbody tr th:only-of-type {\n",
       "        vertical-align: middle;\n",
       "    }\n",
       "\n",
       "    .dataframe tbody tr th {\n",
       "        vertical-align: top;\n",
       "    }\n",
       "\n",
       "    .dataframe thead th {\n",
       "        text-align: right;\n",
       "    }\n",
       "</style>\n",
       "<table border=\"1\" class=\"dataframe\">\n",
       "  <thead>\n",
       "    <tr style=\"text-align: right;\">\n",
       "      <th></th>\n",
       "      <th>BILL_AMT1</th>\n",
       "      <th>BILL_AMT2</th>\n",
       "      <th>BILL_AMT3</th>\n",
       "      <th>BILL_AMT4</th>\n",
       "      <th>BILL_AMT5</th>\n",
       "      <th>BILL_AMT6</th>\n",
       "      <th>PAY_AMT1</th>\n",
       "      <th>PAY_AMT2</th>\n",
       "      <th>PAY_AMT3</th>\n",
       "      <th>PAY_AMT4</th>\n",
       "      <th>PAY_AMT5</th>\n",
       "    </tr>\n",
       "  </thead>\n",
       "  <tbody>\n",
       "    <tr>\n",
       "      <th>0</th>\n",
       "      <td>3913</td>\n",
       "      <td>3102</td>\n",
       "      <td>689</td>\n",
       "      <td>0</td>\n",
       "      <td>0</td>\n",
       "      <td>0</td>\n",
       "      <td>0</td>\n",
       "      <td>689</td>\n",
       "      <td>0</td>\n",
       "      <td>0</td>\n",
       "      <td>0</td>\n",
       "    </tr>\n",
       "    <tr>\n",
       "      <th>1</th>\n",
       "      <td>2682</td>\n",
       "      <td>1725</td>\n",
       "      <td>2682</td>\n",
       "      <td>3272</td>\n",
       "      <td>3455</td>\n",
       "      <td>3261</td>\n",
       "      <td>0</td>\n",
       "      <td>1000</td>\n",
       "      <td>1000</td>\n",
       "      <td>1000</td>\n",
       "      <td>0</td>\n",
       "    </tr>\n",
       "    <tr>\n",
       "      <th>2</th>\n",
       "      <td>29239</td>\n",
       "      <td>14027</td>\n",
       "      <td>13559</td>\n",
       "      <td>14331</td>\n",
       "      <td>14948</td>\n",
       "      <td>15549</td>\n",
       "      <td>1518</td>\n",
       "      <td>1500</td>\n",
       "      <td>1000</td>\n",
       "      <td>1000</td>\n",
       "      <td>1000</td>\n",
       "    </tr>\n",
       "    <tr>\n",
       "      <th>3</th>\n",
       "      <td>46990</td>\n",
       "      <td>48233</td>\n",
       "      <td>49291</td>\n",
       "      <td>28314</td>\n",
       "      <td>28959</td>\n",
       "      <td>29547</td>\n",
       "      <td>2000</td>\n",
       "      <td>2019</td>\n",
       "      <td>1200</td>\n",
       "      <td>1100</td>\n",
       "      <td>1069</td>\n",
       "    </tr>\n",
       "    <tr>\n",
       "      <th>4</th>\n",
       "      <td>8617</td>\n",
       "      <td>5670</td>\n",
       "      <td>35835</td>\n",
       "      <td>20940</td>\n",
       "      <td>19146</td>\n",
       "      <td>19131</td>\n",
       "      <td>2000</td>\n",
       "      <td>36681</td>\n",
       "      <td>10000</td>\n",
       "      <td>9000</td>\n",
       "      <td>689</td>\n",
       "    </tr>\n",
       "  </tbody>\n",
       "</table>\n",
       "</div>"
      ],
      "text/plain": [
       "   BILL_AMT1  BILL_AMT2  BILL_AMT3  BILL_AMT4  BILL_AMT5  BILL_AMT6  PAY_AMT1  \\\n",
       "0       3913       3102        689          0          0          0         0   \n",
       "1       2682       1725       2682       3272       3455       3261         0   \n",
       "2      29239      14027      13559      14331      14948      15549      1518   \n",
       "3      46990      48233      49291      28314      28959      29547      2000   \n",
       "4       8617       5670      35835      20940      19146      19131      2000   \n",
       "\n",
       "   PAY_AMT2  PAY_AMT3  PAY_AMT4  PAY_AMT5  \n",
       "0       689         0         0         0  \n",
       "1      1000      1000      1000         0  \n",
       "2      1500      1000      1000      1000  \n",
       "3      2019      1200      1100      1069  \n",
       "4     36681     10000      9000       689  "
      ]
     },
     "execution_count": 20,
     "metadata": {},
     "output_type": "execute_result"
    }
   ],
   "source": [
    "#features\n",
    "features = rawData.iloc[:,12:23]\n",
    "print('Summary of feature sample')\n",
    "features.head()"
   ]
  },
  {
   "cell_type": "code",
   "execution_count": 21,
   "metadata": {},
   "outputs": [],
   "source": [
    "#dependent variable\n",
    "depVar = rawData['PAY_AMT6']"
   ]
  },
  {
   "cell_type": "code",
   "execution_count": 7,
   "metadata": {},
   "outputs": [
    {
     "name": "stdout",
     "output_type": "stream",
     "text": [
      "<class 'pandas.core.frame.DataFrame'>\n",
      "RangeIndex: 1000 entries, 0 to 999\n",
      "Data columns (total 11 columns):\n",
      "BILL_AMT2    1000 non-null int64\n",
      "BILL_AMT3    1000 non-null int64\n",
      "BILL_AMT4    1000 non-null int64\n",
      "BILL_AMT5    1000 non-null int64\n",
      "BILL_AMT6    1000 non-null int64\n",
      "PAY_AMT1     1000 non-null int64\n",
      "PAY_AMT2     1000 non-null int64\n",
      "PAY_AMT3     1000 non-null int64\n",
      "PAY_AMT4     1000 non-null int64\n",
      "PAY_AMT5     1000 non-null int64\n",
      "PAY_AMT6     1000 non-null int64\n",
      "dtypes: int64(11)\n",
      "memory usage: 86.0 KB\n"
     ]
    }
   ],
   "source": [
    "#Training Set (Feature Space: X Training)\n",
    "X_train = (features[: 1000])\n",
    "X_train.head()\n",
    "X_train.info()"
   ]
  },
  {
   "cell_type": "code",
   "execution_count": 8,
   "metadata": {},
   "outputs": [
    {
     "name": "stdout",
     "output_type": "stream",
     "text": [
      "The number of observations in the Y training set are: 1000\n"
     ]
    },
    {
     "data": {
      "text/plain": [
       "0       0\n",
       "1    2000\n",
       "2    5000\n",
       "3    1000\n",
       "4     679\n",
       "Name: PAY_AMT6, dtype: int64"
      ]
     },
     "execution_count": 8,
     "metadata": {},
     "output_type": "execute_result"
    }
   ],
   "source": [
    "#Dependent Variable Training Set (y Training)\n",
    "y_train = depVar[: 1000]\n",
    "y_train_count = len(y_train.index)\n",
    "print('The number of observations in the Y training set are:',str(y_train_count))\n",
    "y_train.head()"
   ]
  },
  {
   "cell_type": "code",
   "execution_count": 9,
   "metadata": {},
   "outputs": [
    {
     "name": "stdout",
     "output_type": "stream",
     "text": [
      "The number of observations in the feature testing set is: 100\n",
      "       BILL_AMT2  BILL_AMT3  BILL_AMT4  BILL_AMT5  BILL_AMT6  PAY_AMT1  \\\n",
      "29900          0          0          0          0          0         0   \n",
      "29901      48750     103486      50590      50248      49387         0   \n",
      "29902     168088     168955     161351     126198     124746    168096   \n",
      "29903      17082      13333         99         99     172104     10018   \n",
      "29904      56021      54126      58732      59306      59728      2600   \n",
      "\n",
      "       PAY_AMT2  PAY_AMT3  PAY_AMT4  PAY_AMT5  PAY_AMT6  \n",
      "29900         0         0         0         0         0  \n",
      "29901      6556      3250      1563      1208       781  \n",
      "29902      6409      7335      4448      4519      5003  \n",
      "29903     13333        99        99    172104     30013  \n",
      "29904      4553      5800      2000      1000      1462  \n"
     ]
    }
   ],
   "source": [
    "#Testing Set (X Testing)\n",
    "X_test = features[-100:]\n",
    "X_test_count = len(X_test.index)\n",
    "print('The number of observations in the feature testing set is:',str(X_test_count))\n",
    "print(X_test.head())"
   ]
  },
  {
   "cell_type": "code",
   "execution_count": 10,
   "metadata": {},
   "outputs": [
    {
     "name": "stdout",
     "output_type": "stream",
     "text": [
      "The number of observations in the Y training set are: 100\n"
     ]
    },
    {
     "data": {
      "text/plain": [
       "29900        0\n",
       "29901      781\n",
       "29902     5003\n",
       "29903    30013\n",
       "29904     1462\n",
       "Name: PAY_AMT6, dtype: int64"
      ]
     },
     "execution_count": 10,
     "metadata": {},
     "output_type": "execute_result"
    }
   ],
   "source": [
    "#Ground Truth (y_test) \n",
    "y_test = depVar[-100:]\n",
    "y_test_count = len(y_test.index)\n",
    "print('The number of observations in the Y training set are:',str(y_test_count))\n",
    "y_test.head()"
   ]
  },
  {
   "cell_type": "code",
   "execution_count": 11,
   "metadata": {},
   "outputs": [],
   "source": [
    "from sklearn.cross_validation import train_test_split"
   ]
  },
  {
   "cell_type": "code",
   "execution_count": 12,
   "metadata": {},
   "outputs": [],
   "source": [
    "X_train, X_test, y_train, y_test = train_test_split(X_train, y_train)"
   ]
  },
  {
   "cell_type": "code",
   "execution_count": 13,
   "metadata": {},
   "outputs": [
    {
     "data": {
      "text/plain": [
       "((750, 11), (250, 11))"
      ]
     },
     "execution_count": 13,
     "metadata": {},
     "output_type": "execute_result"
    }
   ],
   "source": [
    "X_train.shape, X_test.shape"
   ]
  },
  {
   "cell_type": "code",
   "execution_count": 14,
   "metadata": {},
   "outputs": [
    {
     "data": {
      "text/plain": [
       "((562, 11), (188, 11))"
      ]
     },
     "execution_count": 14,
     "metadata": {},
     "output_type": "execute_result"
    }
   ],
   "source": [
    "X_train, X_test, y_train, y_test = train_test_split(X_train, y_train)\n",
    "X_train.shape, X_test.shape"
   ]
  },
  {
   "cell_type": "code",
   "execution_count": 43,
   "metadata": {},
   "outputs": [],
   "source": [
    "model = LinearRegression(n_jobs=10)"
   ]
  },
  {
   "cell_type": "code",
   "execution_count": 44,
   "metadata": {},
   "outputs": [],
   "source": [
    "#Models\n",
    "modelSVR = SVR()\n",
    "modelRF = RandomForestRegressor()\n",
    "modelLR = LinearRegression()"
   ]
  },
  {
   "cell_type": "code",
   "execution_count": 45,
   "metadata": {},
   "outputs": [
    {
     "name": "stdout",
     "output_type": "stream",
     "text": [
      "0            0\n",
      "1         2000\n",
      "2         5000\n",
      "3         1000\n",
      "4          679\n",
      "5          800\n",
      "6        13770\n",
      "7         1542\n",
      "8         1000\n",
      "9            0\n",
      "10          66\n",
      "11        3640\n",
      "12           0\n",
      "13           0\n",
      "14        3000\n",
      "15        1100\n",
      "16           0\n",
      "17       50000\n",
      "18           0\n",
      "19           0\n",
      "20       33764\n",
      "21           0\n",
      "22        1820\n",
      "23        1128\n",
      "24        2000\n",
      "25         997\n",
      "26        1000\n",
      "27        1012\n",
      "28           0\n",
      "29           0\n",
      "         ...  \n",
      "29970    16080\n",
      "29971     3000\n",
      "29972     4800\n",
      "29973        0\n",
      "29974     1000\n",
      "29975     7022\n",
      "29976        0\n",
      "29977     5000\n",
      "29978    10059\n",
      "29979        0\n",
      "29980     2000\n",
      "29981      585\n",
      "29982        0\n",
      "29983     1701\n",
      "29984     1000\n",
      "29985        0\n",
      "29986        0\n",
      "29987     4005\n",
      "29988     6009\n",
      "29989        0\n",
      "29990     2000\n",
      "29991        0\n",
      "29992        0\n",
      "29993     2000\n",
      "29994     4000\n",
      "29995     1000\n",
      "29996        0\n",
      "29997     3100\n",
      "29998     1804\n",
      "29999     1000\n",
      "Name: PAY_AMT6, Length: 30000, dtype: int64\n"
     ]
    }
   ],
   "source": [
    "#dependent variable\n",
    "print(depVar)"
   ]
  },
  {
   "cell_type": "code",
   "execution_count": 46,
   "metadata": {},
   "outputs": [
    {
     "data": {
      "text/plain": [
       "LinearRegression(copy_X=True, fit_intercept=True, n_jobs=10, normalize=False)"
      ]
     },
     "execution_count": 46,
     "metadata": {},
     "output_type": "execute_result"
    }
   ],
   "source": [
    "model.fit(X_train,y_train)"
   ]
  },
  {
   "cell_type": "code",
   "execution_count": 47,
   "metadata": {},
   "outputs": [
    {
     "data": {
      "text/plain": [
       "RandomForestRegressor(bootstrap=True, criterion='mse', max_depth=None,\n",
       "           max_features='auto', max_leaf_nodes=None,\n",
       "           min_impurity_decrease=0.0, min_impurity_split=None,\n",
       "           min_samples_leaf=1, min_samples_split=2,\n",
       "           min_weight_fraction_leaf=0.0, n_estimators=10, n_jobs=1,\n",
       "           oob_score=False, random_state=None, verbose=0, warm_start=False)"
      ]
     },
     "execution_count": 47,
     "metadata": {},
     "output_type": "execute_result"
    }
   ],
   "source": [
    "# Modelo Random Forest\n",
    "modelRF.fit(X_train,y_train)"
   ]
  },
  {
   "cell_type": "code",
   "execution_count": 48,
   "metadata": {},
   "outputs": [
    {
     "data": {
      "text/plain": [
       "SVR(C=1.0, cache_size=200, coef0=0.0, degree=3, epsilon=0.1, gamma='auto',\n",
       "  kernel='rbf', max_iter=-1, shrinking=True, tol=0.001, verbose=False)"
      ]
     },
     "execution_count": 48,
     "metadata": {},
     "output_type": "execute_result"
    }
   ],
   "source": [
    "#  Support Vector Regression\n",
    "modelSVR.fit(X_train,y_train)"
   ]
  },
  {
   "cell_type": "code",
   "execution_count": 49,
   "metadata": {},
   "outputs": [
    {
     "data": {
      "text/plain": [
       "LinearRegression(copy_X=True, fit_intercept=True, n_jobs=1, normalize=False)"
      ]
     },
     "execution_count": 49,
     "metadata": {},
     "output_type": "execute_result"
    }
   ],
   "source": [
    "# Linear Regression\n",
    "modelLR.fit(X_train,y_train)"
   ]
  },
  {
   "cell_type": "markdown",
   "metadata": {},
   "source": [
    "print(cross_val_score(modelRF, X_train, y_train)) "
   ]
  },
  {
   "cell_type": "code",
   "execution_count": 50,
   "metadata": {},
   "outputs": [
    {
     "name": "stdout",
     "output_type": "stream",
     "text": [
      "[-0.05824247 -0.03430274 -0.0856286 ]\n"
     ]
    }
   ],
   "source": [
    "print(cross_val_score(modelSVR, X_train, y_train)) "
   ]
  },
  {
   "cell_type": "code",
   "execution_count": 51,
   "metadata": {},
   "outputs": [
    {
     "name": "stdout",
     "output_type": "stream",
     "text": [
      "[1. 1. 1.]\n"
     ]
    }
   ],
   "source": [
    "print(cross_val_score(modelLR, X_train, y_train)) "
   ]
  },
  {
   "cell_type": "code",
   "execution_count": 52,
   "metadata": {},
   "outputs": [
    {
     "data": {
      "text/plain": [
       "0.9898543823833528"
      ]
     },
     "execution_count": 52,
     "metadata": {},
     "output_type": "execute_result"
    }
   ],
   "source": [
    "modelRF.score(X_train, y_train)"
   ]
  },
  {
   "cell_type": "code",
   "execution_count": 53,
   "metadata": {},
   "outputs": [
    {
     "data": {
      "text/plain": [
       "-0.035074260808923174"
      ]
     },
     "execution_count": 53,
     "metadata": {},
     "output_type": "execute_result"
    }
   ],
   "source": [
    "modelSVR.score(X_train, y_train)"
   ]
  },
  {
   "cell_type": "code",
   "execution_count": 54,
   "metadata": {},
   "outputs": [
    {
     "data": {
      "text/plain": [
       "1.0"
      ]
     },
     "execution_count": 54,
     "metadata": {},
     "output_type": "execute_result"
    }
   ],
   "source": [
    "modelLR.score(X_train, y_train)"
   ]
  },
  {
   "cell_type": "code",
   "execution_count": 55,
   "metadata": {},
   "outputs": [],
   "source": [
    "predictions = modelRF.predict(X_test)"
   ]
  },
  {
   "cell_type": "code",
   "execution_count": 56,
   "metadata": {},
   "outputs": [],
   "source": [
    "rmse = sqrt(mean_squared_error(y_test, predictions))"
   ]
  },
  {
   "cell_type": "code",
   "execution_count": 57,
   "metadata": {},
   "outputs": [],
   "source": [
    "predRsquared = r2_score(y_test,predictions)"
   ]
  },
  {
   "cell_type": "code",
   "execution_count": 58,
   "metadata": {},
   "outputs": [
    {
     "name": "stdout",
     "output_type": "stream",
     "text": [
      "R Squared: 0.713\n",
      "RMSE: 21835.124\n"
     ]
    }
   ],
   "source": [
    "#Make Predictions\n",
    "predictions = modelRF.predict(X_test)\n",
    "predRsquared = r2_score(y_test,predictions)\n",
    "rmse = sqrt(mean_squared_error(y_test, predictions))\n",
    "print('R Squared: %.3f' % predRsquared)\n",
    "print('RMSE: %.3f' % rmse)"
   ]
  },
  {
   "cell_type": "code",
   "execution_count": 42,
   "metadata": {},
   "outputs": [
    {
     "data": {
      "image/png": "[encoded data removed]",
      "text/plain": [
       "<Figure size 432x288 with 1 Axes>"
      ]
     },
     "metadata": {},
     "output_type": "display_data"
    }
   ],
   "source": [
    "plt.scatter(y_test, predictions, color=['blue','green'], alpha = 0.5)\n",
    "plt.xlabel('Ground Truth')\n",
    "plt.ylabel('Predictions')\n",
    "plt.show();"
   ]
  },
  {
   "cell_type": "code",
   "execution_count": 59,
   "metadata": {},
   "outputs": [
    {
     "data": {
      "text/plain": [
       "array([4.661000e+02, 0.000000e+00, 1.000000e+03, 5.000000e+03,\n",
       "       4.001800e+03, 1.007940e+04, 6.370000e+02, 0.000000e+00,\n",
       "       0.000000e+00, 1.000000e+03, 1.602000e+03, 8.021400e+03,\n",
       "       1.321520e+04, 0.000000e+00, 4.000600e+03, 0.000000e+00,\n",
       "       2.804500e+04, 0.000000e+00, 0.000000e+00, 1.995200e+03,\n",
       "       2.500400e+03, 2.000000e+03, 1.713400e+03, 1.000140e+04,\n",
       "       0.000000e+00, 6.848500e+03, 1.139180e+04, 5.000000e+03,\n",
       "       1.918000e+02, 4.001800e+03, 5.962100e+03, 1.000000e+03,\n",
       "       0.000000e+00, 1.139000e+02, 6.781000e+02, 0.000000e+00,\n",
       "       7.000000e+03, 2.000000e+03, 1.459126e+05, 3.665600e+03,\n",
       "       1.000000e+03, 3.139000e+02, 3.139000e+02, 6.960900e+03,\n",
       "       7.786000e+02, 2.997500e+03, 6.317200e+03, 1.121000e+02,\n",
       "       0.000000e+00, 3.318300e+03, 1.000000e+03, 0.000000e+00,\n",
       "       2.500200e+03, 3.001200e+03, 2.417400e+03, 0.000000e+00,\n",
       "       4.430000e+03, 0.000000e+00, 6.032000e+02, 5.048780e+04,\n",
       "       0.000000e+00, 3.993800e+03, 0.000000e+00, 9.720000e+01,\n",
       "       2.005000e+03, 1.137700e+03, 8.021400e+03, 1.532500e+03,\n",
       "       1.000000e+03, 0.000000e+00, 2.000000e+03, 1.722200e+03,\n",
       "       0.000000e+00, 1.037000e+03, 3.769000e+03, 2.000000e+03,\n",
       "       0.000000e+00, 0.000000e+00, 6.042600e+03, 7.875000e+02,\n",
       "       2.319596e+05, 8.356000e+02, 1.870000e+02, 6.898000e+02,\n",
       "       0.000000e+00, 0.000000e+00, 0.000000e+00, 9.994000e+02,\n",
       "       1.760700e+03, 9.860000e+01, 2.038000e+03, 0.000000e+00,\n",
       "       8.971000e+02, 2.500400e+03, 3.052000e+02, 0.000000e+00,\n",
       "       5.648900e+03, 5.114300e+03, 1.000000e+03, 2.281600e+03,\n",
       "       0.000000e+00, 1.678800e+03, 0.000000e+00, 1.017700e+03,\n",
       "       0.000000e+00, 1.366300e+03, 5.000000e+03, 6.026000e+02,\n",
       "       5.490000e+02, 0.000000e+00, 0.000000e+00, 3.558500e+03,\n",
       "       0.000000e+00, 6.412000e+02, 5.003200e+03, 2.631600e+03,\n",
       "       0.000000e+00, 3.151000e+02, 0.000000e+00, 3.085000e+02,\n",
       "       0.000000e+00, 1.878580e+04, 0.000000e+00, 2.374800e+03,\n",
       "       2.000000e+03, 0.000000e+00, 2.145600e+03, 2.366600e+03,\n",
       "       0.000000e+00, 7.020000e+03, 0.000000e+00, 1.200000e+00,\n",
       "       0.000000e+00, 0.000000e+00, 2.995100e+03, 0.000000e+00,\n",
       "       0.000000e+00, 7.935900e+03, 1.026800e+03, 7.837000e+02,\n",
       "       5.980900e+03, 2.000000e+03, 2.437900e+03, 1.841000e+02,\n",
       "       1.031800e+03, 0.000000e+00, 5.983800e+03, 2.980200e+03,\n",
       "       0.000000e+00, 2.480300e+03, 0.000000e+00, 6.107000e+02,\n",
       "       4.941300e+03, 8.377800e+03, 0.000000e+00, 0.000000e+00,\n",
       "       1.602200e+03, 1.980800e+03, 0.000000e+00, 2.500000e+03,\n",
       "       3.580200e+03, 2.988000e+03, 2.029470e+04, 5.003200e+03,\n",
       "       4.288000e+02, 1.380800e+03, 4.988300e+03, 4.999200e+03,\n",
       "       0.000000e+00, 3.000000e+03, 0.000000e+00, 1.000000e+03,\n",
       "       2.795000e+02, 0.000000e+00, 0.000000e+00, 0.000000e+00,\n",
       "       8.905400e+03, 1.171940e+04, 5.516200e+03, 1.000000e+03,\n",
       "       1.525190e+04, 4.239400e+03, 0.000000e+00, 1.760700e+03,\n",
       "       0.000000e+00, 1.606600e+03, 2.834800e+03, 0.000000e+00])"
      ]
     },
     "execution_count": 59,
     "metadata": {},
     "output_type": "execute_result"
    }
   ],
   "source": [
    "predictions"
   ]
  },
  {
   "cell_type": "markdown",
   "metadata": {},
   "source": [
    "# Modelo de Clasificación"
   ]
  },
  {
   "cell_type": "code",
   "execution_count": 14,
   "metadata": {},
   "outputs": [
    {
     "name": "stdout",
     "output_type": "stream",
     "text": [
      "<class 'pandas.core.frame.DataFrame'>\n",
      "RangeIndex: 30000 entries, 0 to 29999\n",
      "Data columns (total 24 columns):\n",
      "LIMIT_BAL                     30000 non-null int64\n",
      "SEX                           30000 non-null int64\n",
      "EDUCATION                     30000 non-null int64\n",
      "MARRIAGE                      30000 non-null int64\n",
      "AGE                           30000 non-null int64\n",
      "PAY_0                         30000 non-null int64\n",
      "PAY_2                         30000 non-null int64\n",
      "PAY_3                         30000 non-null int64\n",
      "PAY_4                         30000 non-null int64\n",
      "PAY_5                         30000 non-null int64\n",
      "PAY_6                         30000 non-null int64\n",
      "BILL_AMT1                     30000 non-null int64\n",
      "BILL_AMT2                     30000 non-null int64\n",
      "BILL_AMT3                     30000 non-null int64\n",
      "BILL_AMT4                     30000 non-null int64\n",
      "BILL_AMT5                     30000 non-null int64\n",
      "BILL_AMT6                     30000 non-null int64\n",
      "PAY_AMT1                      30000 non-null int64\n",
      "PAY_AMT2                      30000 non-null int64\n",
      "PAY_AMT3                      30000 non-null int64\n",
      "PAY_AMT4                      30000 non-null int64\n",
      "PAY_AMT5                      30000 non-null int64\n",
      "PAY_AMT6                      30000 non-null int64\n",
      "default payment next month    30000 non-null int64\n",
      "dtypes: int64(24)\n",
      "memory usage: 5.5 MB\n"
     ]
    }
   ],
   "source": [
    "rawData = pd.read_csv('default of credit card clients.csv', header=1)\n",
    "# Elimino la columna ID ya que no aporta información relevante\n",
    "rawData = rawData.drop([\"ID\"], axis=1)\n",
    "\n",
    "rawData.head()\n",
    "rawData.info()"
   ]
  },
  {
   "cell_type": "code",
   "execution_count": 66,
   "metadata": {},
   "outputs": [
    {
     "name": "stdout",
     "output_type": "stream",
     "text": [
      "                               LIMIT_BAL          SEX     EDUCATION  \\\n",
      "LIMIT_BAL                   1.683446e+10  1571.050630 -22474.028945   \n",
      "SEX                         1.571051e+03     0.239247      0.005502   \n",
      "EDUCATION                  -2.247403e+04     0.005502      0.624651   \n",
      "MARRIAGE                   -7.323670e+03    -0.008014     -0.059184   \n",
      "AGE                         1.730767e+05    -0.409726      1.275380   \n",
      "PAY_0                      -3.954593e+04    -0.031685      0.093584   \n",
      "PAY_2                      -4.603765e+04    -0.041442      0.115025   \n",
      "PAY_3                      -4.443225e+04    -0.038694      0.107861   \n",
      "PAY_4                      -4.057181e+04    -0.034411      0.100528   \n",
      "PAY_5                      -3.667056e+04    -0.030521      0.087340   \n",
      "PAY_6                      -3.509308e+04    -0.024754      0.074816   \n",
      "BILL_AMT1                   2.727020e+09 -1211.694332   1372.377644   \n",
      "BILL_AMT2                   2.570130e+09 -1085.595467   1054.657595   \n",
      "BILL_AMT3                   2.548533e+09  -833.207432    712.664124   \n",
      "BILL_AMT4                   2.453926e+09  -688.489572    -22.948827   \n",
      "BILL_AMT5                   2.331481e+09  -505.694333   -363.577664   \n",
      "BILL_AMT6                   2.243837e+09  -487.430160   -428.274232   \n",
      "PAY_AMT1                    4.195711e+08    -1.964266   -490.330155   \n",
      "PAY_AMT2                    5.333504e+08   -15.675500   -547.005021   \n",
      "PAY_AMT3                    4.801180e+08   -74.034812   -555.834305   \n",
      "PAY_AMT4                    4.131202e+08   -17.080110   -473.206951   \n",
      "PAY_AMT5                    4.305657e+08   -12.458809   -487.335947   \n",
      "PAY_AMT6                    5.065153e+08   -24.051885   -522.673379   \n",
      "default payment next month -8.267552e+03    -0.008113      0.009187   \n",
      "\n",
      "                               MARRIAGE            AGE         PAY_0  \\\n",
      "LIMIT_BAL                  -7323.669658  173076.722569 -39545.930009   \n",
      "SEX                           -0.008014      -0.409726     -0.031685   \n",
      "EDUCATION                     -0.059184       1.275380      0.093584   \n",
      "MARRIAGE                       0.272452      -1.992764      0.011683   \n",
      "AGE                           -1.992764      84.969755     -0.408639   \n",
      "PAY_0                          0.011683      -0.408639      1.262930   \n",
      "PAY_2                          0.015122      -0.553408      0.904330   \n",
      "PAY_3                          0.020421      -0.585263      0.772384   \n",
      "PAY_4                          0.020213      -0.535851      0.707972   \n",
      "PAY_5                          0.021074      -0.562245      0.648743   \n",
      "PAY_6                          0.020616      -0.517022      0.613292   \n",
      "BILL_AMT1                   -902.154685   38172.933546  15480.304170   \n",
      "BILL_AMT2                   -802.517866   35613.657962  15185.916919   \n",
      "BILL_AMT3                   -901.679085   34334.251320  14011.556537   \n",
      "BILL_AMT4                   -783.881599   30453.108180  12950.248389   \n",
      "BILL_AMT5                   -805.840875   27654.067800  12341.668685   \n",
      "BILL_AMT6                   -659.223347   26137.648547  11844.759724   \n",
      "PAY_AMT1                     -51.691615    3992.041735  -1475.495089   \n",
      "PAY_AMT2                     -97.327974    4626.861549  -1815.138407   \n",
      "PAY_AMT3                     -32.546082    4746.824393  -1396.168258   \n",
      "PAY_AMT4                    -103.518204    3087.324192  -1126.847945   \n",
      "PAY_AMT5                      -9.607709    3218.052172   -999.107730   \n",
      "PAY_AMT6                     -61.623271    3191.903901  -1172.193614   \n",
      "default payment next month    -0.005273       0.053143      0.151499   \n",
      "\n",
      "                                   PAY_2         PAY_3         PAY_4  \\\n",
      "LIMIT_BAL                  -46037.648360 -44432.253315 -40571.811859   \n",
      "SEX                            -0.041442     -0.038694     -0.034411   \n",
      "EDUCATION                       0.115025      0.107861      0.100528   \n",
      "MARRIAGE                        0.015122      0.020421      0.020213   \n",
      "AGE                            -0.553408     -0.585263     -0.535851   \n",
      "PAY_0                           0.904330      0.772384      0.707972   \n",
      "PAY_2                           1.433254      1.098371      0.926680   \n",
      "PAY_3                           1.098371      1.432492      1.087761   \n",
      "PAY_4                           0.926680      1.087761      1.366885   \n",
      "PAY_5                           0.844886      0.931455      1.086161   \n",
      "PAY_6                           0.792320      0.870815      0.963263   \n",
      "BILL_AMT1                   20706.614217  18373.210469  17460.198259   \n",
      "BILL_AMT2                   20045.829482  20214.071495  18790.627741   \n",
      "BILL_AMT3                   18609.510991  18882.491544  19862.999426   \n",
      "BILL_AMT4                   17116.298983  17494.100555  18496.423186   \n",
      "BILL_AMT5                   16110.952468  16382.947539  17265.551898   \n",
      "BILL_AMT6                   15642.875812  15847.089648  16651.586314   \n",
      "PAY_AMT1                    -1600.240756     25.668468   -181.295613   \n",
      "PAY_AMT2                    -1627.192336  -1841.952825    -52.358166   \n",
      "PAY_AMT3                    -1178.331282  -1123.428782  -1425.205189   \n",
      "PAY_AMT4                     -878.843879   -863.762183   -796.035739   \n",
      "PAY_AMT5                     -678.468530   -655.796002   -599.991629   \n",
      "PAY_AMT6                     -776.835035   -763.026041   -552.137338   \n",
      "default payment next month      0.130960      0.116867      0.105115   \n",
      "\n",
      "                                   PAY_5             ...              \\\n",
      "LIMIT_BAL                  -36670.562325             ...               \n",
      "SEX                            -0.030521             ...               \n",
      "EDUCATION                       0.087340             ...               \n",
      "MARRIAGE                        0.021074             ...               \n",
      "AGE                            -0.562245             ...               \n",
      "PAY_0                           0.648743             ...               \n",
      "PAY_2                           0.844886             ...               \n",
      "PAY_3                           0.931455             ...               \n",
      "PAY_4                           1.086161             ...               \n",
      "PAY_5                           1.284114             ...               \n",
      "PAY_6                           1.064545             ...               \n",
      "BILL_AMT1                   17246.377531             ...               \n",
      "BILL_AMT2                   18301.285286             ...               \n",
      "BILL_AMT3                   19122.663330             ...               \n",
      "BILL_AMT4                   19822.925512             ...               \n",
      "BILL_AMT5                   18586.590324             ...               \n",
      "BILL_AMT6                   17715.690075             ...               \n",
      "PAY_AMT1                     -114.281714             ...               \n",
      "PAY_AMT2                      -83.324487             ...               \n",
      "PAY_AMT3                      180.812142             ...               \n",
      "PAY_AMT4                    -1034.961970             ...               \n",
      "PAY_AMT5                     -577.161017             ...               \n",
      "PAY_AMT6                     -463.892613             ...               \n",
      "default payment next month      0.096020             ...               \n",
      "\n",
      "                               BILL_AMT4     BILL_AMT5     BILL_AMT6  \\\n",
      "LIMIT_BAL                   2.453926e+09  2.331481e+09  2.243837e+09   \n",
      "SEX                        -6.884896e+02 -5.056943e+02 -4.874302e+02   \n",
      "EDUCATION                  -2.294883e+01 -3.635777e+02 -4.282742e+02   \n",
      "MARRIAGE                   -7.838816e+02 -8.058409e+02 -6.592233e+02   \n",
      "AGE                         3.045311e+04  2.765407e+04  2.613765e+04   \n",
      "PAY_0                       1.295025e+04  1.234167e+04  1.184476e+04   \n",
      "PAY_2                       1.711630e+04  1.611095e+04  1.564288e+04   \n",
      "PAY_3                       1.749410e+04  1.638295e+04  1.584709e+04   \n",
      "PAY_4                       1.849642e+04  1.726555e+04  1.665159e+04   \n",
      "PAY_5                       1.982293e+04  1.858659e+04  1.771569e+04   \n",
      "PAY_6                       1.970555e+04  2.033812e+04  1.952488e+04   \n",
      "BILL_AMT1                   4.075286e+09  3.714795e+09  3.519876e+09   \n",
      "BILL_AMT2                   4.086508e+09  3.720401e+09  3.524868e+09   \n",
      "BILL_AMT3                   4.122238e+09  3.726780e+09  3.524247e+09   \n",
      "BILL_AMT4                   4.138716e+09  3.677105e+09  3.451762e+09   \n",
      "BILL_AMT5                   3.677105e+09  3.696294e+09  3.425914e+09   \n",
      "BILL_AMT6                   3.451762e+09  3.425914e+09  3.546692e+09   \n",
      "PAY_AMT1                    2.482888e+08  2.185501e+08  1.972478e+08   \n",
      "PAY_AMT2                    3.076686e+08  2.538936e+08  2.369244e+08   \n",
      "PAY_AMT3                    3.398374e+08  2.700805e+08  2.451233e+08   \n",
      "PAY_AMT4                    1.312133e+08  2.791830e+08  2.334670e+08   \n",
      "PAY_AMT5                    1.576892e+08  1.315051e+08  2.799982e+08   \n",
      "PAY_AMT6                    2.031590e+08  1.774537e+08  1.222761e+08   \n",
      "default payment next month -2.711999e+02 -1.705974e+02 -1.327963e+02   \n",
      "\n",
      "                                PAY_AMT1      PAY_AMT2      PAY_AMT3  \\\n",
      "LIMIT_BAL                   4.195711e+08  5.333504e+08  4.801180e+08   \n",
      "SEX                        -1.964266e+00 -1.567550e+01 -7.403481e+01   \n",
      "EDUCATION                  -4.903302e+02 -5.470050e+02 -5.558343e+02   \n",
      "MARRIAGE                   -5.169161e+01 -9.732797e+01 -3.254608e+01   \n",
      "AGE                         3.992042e+03  4.626862e+03  4.746824e+03   \n",
      "PAY_0                      -1.475495e+03 -1.815138e+03 -1.396168e+03   \n",
      "PAY_2                      -1.600241e+03 -1.627192e+03 -1.178331e+03   \n",
      "PAY_3                       2.566847e+01 -1.841953e+03 -1.123429e+03   \n",
      "PAY_4                      -1.812956e+02 -5.235817e+01 -1.425205e+03   \n",
      "PAY_5                      -1.142817e+02 -8.332449e+01  1.808121e+02   \n",
      "PAY_6                      -2.850067e+01 -1.383995e+02  1.181210e+02   \n",
      "BILL_AMT1                   1.710894e+08  1.685692e+08  2.034048e+08   \n",
      "BILL_AMT2                   3.305146e+08  1.653859e+08  1.888731e+08   \n",
      "BILL_AMT3                   2.806565e+08  5.064226e+08  1.587478e+08   \n",
      "BILL_AMT4                   2.482888e+08  3.076686e+08  3.398374e+08   \n",
      "BILL_AMT5                   2.185501e+08  2.538936e+08  2.700805e+08   \n",
      "BILL_AMT6                   1.972478e+08  2.369244e+08  2.451233e+08   \n",
      "PAY_AMT1                    2.743423e+08  1.089849e+08  7.354626e+07   \n",
      "PAY_AMT2                    1.089849e+08  5.308817e+08  9.929841e+07   \n",
      "PAY_AMT3                    7.354626e+07  9.929841e+07  3.100051e+08   \n",
      "PAY_AMT4                    5.178189e+07  6.501168e+07  5.966970e+07   \n",
      "PAY_AMT5                    3.756893e+07  6.368414e+07  4.282921e+07   \n",
      "PAY_AMT6                    5.469033e+07  6.456816e+07  5.093879e+07   \n",
      "default payment next month -5.013746e+02 -5.602107e+02 -4.110763e+02   \n",
      "\n",
      "                                PAY_AMT4      PAY_AMT5      PAY_AMT6  \\\n",
      "LIMIT_BAL                   4.131202e+08  4.305657e+08  5.065153e+08   \n",
      "SEX                        -1.708011e+01 -1.245881e+01 -2.405188e+01   \n",
      "EDUCATION                  -4.732070e+02 -4.873359e+02 -5.226734e+02   \n",
      "MARRIAGE                   -1.035182e+02 -9.607709e+00 -6.162327e+01   \n",
      "AGE                         3.087324e+03  3.218052e+03  3.191904e+03   \n",
      "PAY_0                      -1.126848e+03 -9.991077e+02 -1.172194e+03   \n",
      "PAY_2                      -8.788439e+02 -6.784685e+02 -7.768350e+02   \n",
      "PAY_3                      -8.637622e+02 -6.557960e+02 -7.630260e+02   \n",
      "PAY_4                      -7.960357e+02 -5.999916e+02 -5.521373e+02   \n",
      "PAY_5                      -1.034962e+03 -5.771610e+02 -4.638926e+02   \n",
      "PAY_6                       3.426237e+02 -8.158327e+02 -5.172163e+02   \n",
      "BILL_AMT1                   1.826164e+08  1.879091e+08  2.347681e+08   \n",
      "BILL_AMT2                   1.643518e+08  1.717652e+08  2.204845e+08   \n",
      "BILL_AMT3                   1.558003e+08  1.904126e+08  2.247817e+08   \n",
      "BILL_AMT4                   1.312133e+08  1.576892e+08  2.031590e+08   \n",
      "BILL_AMT5                   2.791830e+08  1.315051e+08  1.774537e+08   \n",
      "BILL_AMT6                   2.334670e+08  2.799982e+08  1.222761e+08   \n",
      "PAY_AMT1                    5.178189e+07  3.756893e+07  5.469033e+07   \n",
      "PAY_AMT2                    6.501168e+07  6.368414e+07  6.456816e+07   \n",
      "PAY_AMT3                    5.966970e+07  4.282921e+07  5.093879e+07   \n",
      "PAY_AMT4                    2.454286e+08  3.634098e+07  4.395747e+07   \n",
      "PAY_AMT5                    3.634098e+07  2.334266e+08  4.207110e+07   \n",
      "PAY_AMT6                    4.395747e+07  4.207110e+07  3.160383e+08   \n",
      "default payment next month -3.695159e+02 -3.495625e+02 -3.924264e+02   \n",
      "\n",
      "                            default payment next month  \n",
      "LIMIT_BAL                                 -8267.551759  \n",
      "SEX                                          -0.008113  \n",
      "EDUCATION                                     0.009187  \n",
      "MARRIAGE                                     -0.005273  \n",
      "AGE                                           0.053143  \n",
      "PAY_0                                         0.151499  \n",
      "PAY_2                                         0.130960  \n",
      "PAY_3                                         0.116867  \n",
      "PAY_4                                         0.105115  \n",
      "PAY_5                                         0.096020  \n",
      "PAY_6                                         0.089194  \n",
      "BILL_AMT1                                  -600.394108  \n",
      "BILL_AMT2                                  -419.289137  \n",
      "BILL_AMT3                                  -405.153680  \n",
      "BILL_AMT4                                  -271.199885  \n",
      "BILL_AMT5                                  -170.597447  \n",
      "BILL_AMT6                                  -132.796294  \n",
      "PAY_AMT1                                   -501.374552  \n",
      "PAY_AMT2                                   -560.210740  \n",
      "PAY_AMT3                                   -411.076284  \n",
      "PAY_AMT4                                   -369.515887  \n",
      "PAY_AMT5                                   -349.562530  \n",
      "PAY_AMT6                                   -392.426415  \n",
      "default payment next month                    0.172276  \n",
      "\n",
      "[24 rows x 24 columns]\n"
     ]
    }
   ],
   "source": [
    "covMat = rawData.cov()\n",
    "print(covMat)"
   ]
  },
  {
   "cell_type": "markdown",
   "metadata": {},
   "source": [
    "    Exploratory Data Analysis "
   ]
  },
  {
   "cell_type": "code",
   "execution_count": 67,
   "metadata": {},
   "outputs": [
    {
     "data": {
      "image/png": "[encoded data removed]",
      "text/plain": [
       "<Figure size 432x288 with 1 Axes>"
      ]
     },
     "metadata": {},
     "output_type": "display_data"
    }
   ],
   "source": [
    "# se grafica LIMIT_BAL\n",
    "plt.hist(rawData[\"LIMIT_BAL\"])\n",
    "plt.show()"
   ]
  },
  {
   "cell_type": "code",
   "execution_count": 32,
   "metadata": {},
   "outputs": [
    {
     "data": {
      "image/png": "[encoded data removed]",
      "text/plain": [
       "<Figure size 432x288 with 1 Axes>"
      ]
     },
     "metadata": {},
     "output_type": "display_data"
    }
   ],
   "source": [
    "plt.hist(rawData[\"PAY_0\"])\n",
    "plt.show()"
   ]
  },
  {
   "cell_type": "code",
   "execution_count": 34,
   "metadata": {},
   "outputs": [
    {
     "data": {
      "image/png": "[encoded data removed]",
      "text/plain": [
       "<Figure size 432x288 with 1 Axes>"
      ]
     },
     "metadata": {},
     "output_type": "display_data"
    }
   ],
   "source": [
    "plt.hist(rawData[\"PAY_2\"])\n",
    "plt.show()"
   ]
  },
  {
   "cell_type": "code",
   "execution_count": 68,
   "metadata": {},
   "outputs": [
    {
     "data": {
      "image/png": "[encoded data removed]",
      "text/plain": [
       "<Figure size 432x288 with 1 Axes>"
      ]
     },
     "metadata": {},
     "output_type": "display_data"
    }
   ],
   "source": [
    "plt.hist(rawData[\"LIMIT_BAL\"], bins=4)\n",
    "plt.show()"
   ]
  },
  {
   "cell_type": "code",
   "execution_count": 69,
   "metadata": {},
   "outputs": [
    {
     "data": {
      "image/png": "[encoded data removed]",
      "text/plain": [
       "<Figure size 432x288 with 1 Axes>"
      ]
     },
     "metadata": {},
     "output_type": "display_data"
    }
   ],
   "source": [
    "# se grafica AGE\n",
    "plt.hist(rawData[\"AGE\"])\n",
    "plt.show()"
   ]
  },
  {
   "cell_type": "code",
   "execution_count": 70,
   "metadata": {},
   "outputs": [
    {
     "data": {
      "image/png": "[encoded data removed]",
      "text/plain": [
       "<Figure size 432x288 with 1 Axes>"
      ]
     },
     "metadata": {},
     "output_type": "display_data"
    }
   ],
   "source": [
    "# se grafica EDUCATION\n",
    "plt.hist(rawData[\"EDUCATION\"])\n",
    "plt.show()"
   ]
  },
  {
   "cell_type": "code",
   "execution_count": 71,
   "metadata": {},
   "outputs": [
    {
     "data": {
      "image/png": "[encoded data removed]",
      "text/plain": [
       "<Figure size 432x288 with 1 Axes>"
      ]
     },
     "metadata": {},
     "output_type": "display_data"
    }
   ],
   "source": [
    "# se grafica MARRIAGE\n",
    "plt.hist(rawData[\"MARRIAGE\"])\n",
    "plt.show()"
   ]
  },
  {
   "cell_type": "code",
   "execution_count": 73,
   "metadata": {},
   "outputs": [
    {
     "data": {
      "image/png": "[encoded data removed]",
      "text/plain": [
       "<Figure size 432x288 with 1 Axes>"
      ]
     },
     "metadata": {},
     "output_type": "display_data"
    }
   ],
   "source": [
    "plt.hist(rawData[\"PAY_AMT5\"])\n",
    "plt.show()"
   ]
  },
  {
   "cell_type": "code",
   "execution_count": 75,
   "metadata": {},
   "outputs": [
    {
     "data": {
      "image/png": "[encoded data removed]",
      "text/plain": [
       "<Figure size 432x288 with 1 Axes>"
      ]
     },
     "metadata": {},
     "output_type": "display_data"
    }
   ],
   "source": [
    "plt.plot(rawData['AGE'])\n",
    "plt.show()"
   ]
  },
  {
   "cell_type": "code",
   "execution_count": 76,
   "metadata": {},
   "outputs": [
    {
     "data": {
      "image/png": "[encoded data removed]",
      "text/plain": [
       "<Figure size 432x288 with 1 Axes>"
      ]
     },
     "metadata": {},
     "output_type": "display_data"
    }
   ],
   "source": [
    "plt.plot(rawData['EDUCATION'])\n",
    "plt.show()"
   ]
  },
  {
   "cell_type": "code",
   "execution_count": 77,
   "metadata": {},
   "outputs": [
    {
     "data": {
      "image/png": "[encoded data removed]",
      "text/plain": [
       "<Figure size 432x288 with 1 Axes>"
      ]
     },
     "metadata": {},
     "output_type": "display_data"
    }
   ],
   "source": [
    "x = rawData['SEX']\n",
    "y = rawData['LIMIT_BAL']\n",
    "plt.scatter(x,y)\n",
    "plt.show()"
   ]
  },
  {
   "cell_type": "code",
   "execution_count": 78,
   "metadata": {},
   "outputs": [
    {
     "data": {
      "image/png": "[encoded data removed]",
      "text/plain": [
       "<Figure size 432x288 with 1 Axes>"
      ]
     },
     "metadata": {},
     "output_type": "display_data"
    }
   ],
   "source": [
    "x = rawData['SEX']\n",
    "y = rawData['EDUCATION']\n",
    "plt.scatter(x,y)\n",
    "plt.show()"
   ]
  },
  {
   "cell_type": "code",
   "execution_count": 79,
   "metadata": {},
   "outputs": [
    {
     "data": {
      "image/png": "[encoded data removed]",
      "text/plain": [
       "<Figure size 432x288 with 1 Axes>"
      ]
     },
     "metadata": {},
     "output_type": "display_data"
    }
   ],
   "source": [
    "x = rawData['EDUCATION']\n",
    "y = rawData['LIMIT_BAL']\n",
    "plt.scatter(x,y)\n",
    "plt.show()"
   ]
  },
  {
   "cell_type": "code",
   "execution_count": 82,
   "metadata": {},
   "outputs": [
    {
     "data": {
      "image/png": "[encoded data removed]",
      "text/plain": [
       "<Figure size 432x288 with 1 Axes>"
      ]
     },
     "metadata": {},
     "output_type": "display_data"
    }
   ],
   "source": [
    "A = rawData[\"LIMIT_BAL\"]\n",
    "plt.boxplot(A,0,\"gD\")\n",
    "plt.show()"
   ]
  },
  {
   "cell_type": "code",
   "execution_count": 83,
   "metadata": {},
   "outputs": [
    {
     "data": {
      "image/png": "[encoded data removed]",
      "text/plain": [
       "<Figure size 432x288 with 1 Axes>"
      ]
     },
     "metadata": {},
     "output_type": "display_data"
    }
   ],
   "source": [
    "B = rawData[\"BILL_AMT1\"]\n",
    "plt.boxplot(B,0,\"gD\")\n",
    "plt.show()"
   ]
  },
  {
   "cell_type": "code",
   "execution_count": 86,
   "metadata": {},
   "outputs": [
    {
     "data": {
      "image/png": "[encoded data removed]",
      "text/plain": [
       "<Figure size 432x288 with 1 Axes>"
      ]
     },
     "metadata": {},
     "output_type": "display_data"
    }
   ],
   "source": [
    "B = rawData[\"PAY_AMT6\"]\n",
    "plt.boxplot(B,0,\"gD\")\n",
    "plt.show()"
   ]
  },
  {
   "cell_type": "code",
   "execution_count": 87,
   "metadata": {},
   "outputs": [
    {
     "name": "stdout",
     "output_type": "stream",
     "text": [
      "                            LIMIT_BAL       SEX  EDUCATION  MARRIAGE  \\\n",
      "LIMIT_BAL                    1.000000  0.024755  -0.219161 -0.108139   \n",
      "SEX                          0.024755  1.000000   0.014232 -0.031389   \n",
      "EDUCATION                   -0.219161  0.014232   1.000000 -0.143464   \n",
      "MARRIAGE                    -0.108139 -0.031389  -0.143464  1.000000   \n",
      "AGE                          0.144713 -0.090874   0.175061 -0.414170   \n",
      "PAY_0                       -0.271214 -0.057643   0.105364  0.019917   \n",
      "PAY_2                       -0.296382 -0.070771   0.121566  0.024199   \n",
      "PAY_3                       -0.286123 -0.066096   0.114025  0.032688   \n",
      "PAY_4                       -0.267460 -0.060173   0.108793  0.033122   \n",
      "PAY_5                       -0.249411 -0.055064   0.097520  0.035629   \n",
      "PAY_6                       -0.235195 -0.044008   0.082316  0.034345   \n",
      "BILL_AMT1                    0.285430 -0.033642   0.023581 -0.023472   \n",
      "BILL_AMT2                    0.278314 -0.031183   0.018749 -0.021602   \n",
      "BILL_AMT3                    0.283236 -0.024563   0.013002 -0.024909   \n",
      "BILL_AMT4                    0.293988 -0.021880  -0.000451 -0.023344   \n",
      "BILL_AMT5                    0.295562 -0.017005  -0.007567 -0.025393   \n",
      "BILL_AMT6                    0.290389 -0.016733  -0.009099 -0.021207   \n",
      "PAY_AMT1                     0.195236 -0.000242  -0.037456 -0.005979   \n",
      "PAY_AMT2                     0.178408 -0.001391  -0.030038 -0.008093   \n",
      "PAY_AMT3                     0.210167 -0.008597  -0.039943 -0.003541   \n",
      "PAY_AMT4                     0.203242 -0.002229  -0.038218 -0.012659   \n",
      "PAY_AMT5                     0.217202 -0.001667  -0.040358 -0.001205   \n",
      "PAY_AMT6                     0.219595 -0.002766  -0.037200 -0.006641   \n",
      "default payment next month  -0.153520 -0.039961   0.028006 -0.024339   \n",
      "\n",
      "                                 AGE     PAY_0     PAY_2     PAY_3     PAY_4  \\\n",
      "LIMIT_BAL                   0.144713 -0.271214 -0.296382 -0.286123 -0.267460   \n",
      "SEX                        -0.090874 -0.057643 -0.070771 -0.066096 -0.060173   \n",
      "EDUCATION                   0.175061  0.105364  0.121566  0.114025  0.108793   \n",
      "MARRIAGE                   -0.414170  0.019917  0.024199  0.032688  0.033122   \n",
      "AGE                         1.000000 -0.039447 -0.050148 -0.053048 -0.049722   \n",
      "PAY_0                      -0.039447  1.000000  0.672164  0.574245  0.538841   \n",
      "PAY_2                      -0.050148  0.672164  1.000000  0.766552  0.662067   \n",
      "PAY_3                      -0.053048  0.574245  0.766552  1.000000  0.777359   \n",
      "PAY_4                      -0.049722  0.538841  0.662067  0.777359  1.000000   \n",
      "PAY_5                      -0.053826  0.509426  0.622780  0.686775  0.819835   \n",
      "PAY_6                      -0.048773  0.474553  0.575501  0.632684  0.716449   \n",
      "BILL_AMT1                   0.056239  0.187068  0.234887  0.208473  0.202812   \n",
      "BILL_AMT2                   0.054283  0.189859  0.235257  0.237295  0.225816   \n",
      "BILL_AMT3                   0.053710  0.179785  0.224146  0.227494  0.244983   \n",
      "BILL_AMT4                   0.051353  0.179125  0.222237  0.227202  0.245917   \n",
      "BILL_AMT5                   0.049345  0.180635  0.221348  0.225145  0.242902   \n",
      "BILL_AMT6                   0.047613  0.176980  0.219403  0.222327  0.239154   \n",
      "PAY_AMT1                    0.026147 -0.079269 -0.080701  0.001295 -0.009362   \n",
      "PAY_AMT2                    0.021785 -0.070101 -0.058990 -0.066793 -0.001944   \n",
      "PAY_AMT3                    0.029247 -0.070561 -0.055901 -0.053311 -0.069235   \n",
      "PAY_AMT4                    0.021379 -0.064005 -0.046858 -0.046067 -0.043461   \n",
      "PAY_AMT5                    0.022850 -0.058190 -0.037093 -0.035863 -0.033590   \n",
      "PAY_AMT6                    0.019478 -0.058673 -0.036500 -0.035861 -0.026565   \n",
      "default payment next month  0.013890  0.324794  0.263551  0.235253  0.216614   \n",
      "\n",
      "                               PAY_5             ...              BILL_AMT4  \\\n",
      "LIMIT_BAL                  -0.249411             ...               0.293988   \n",
      "SEX                        -0.055064             ...              -0.021880   \n",
      "EDUCATION                   0.097520             ...              -0.000451   \n",
      "MARRIAGE                    0.035629             ...              -0.023344   \n",
      "AGE                        -0.053826             ...               0.051353   \n",
      "PAY_0                       0.509426             ...               0.179125   \n",
      "PAY_2                       0.622780             ...               0.222237   \n",
      "PAY_3                       0.686775             ...               0.227202   \n",
      "PAY_4                       0.819835             ...               0.245917   \n",
      "PAY_5                       1.000000             ...               0.271915   \n",
      "PAY_6                       0.816900             ...               0.266356   \n",
      "BILL_AMT1                   0.206684             ...               0.860272   \n",
      "BILL_AMT2                   0.226913             ...               0.892482   \n",
      "BILL_AMT3                   0.243335             ...               0.923969   \n",
      "BILL_AMT4                   0.271915             ...               1.000000   \n",
      "BILL_AMT5                   0.269783             ...               0.940134   \n",
      "BILL_AMT6                   0.262509             ...               0.900941   \n",
      "PAY_AMT1                   -0.006089             ...               0.233012   \n",
      "PAY_AMT2                   -0.003191             ...               0.207564   \n",
      "PAY_AMT3                    0.009062             ...               0.300023   \n",
      "PAY_AMT4                   -0.058299             ...               0.130191   \n",
      "PAY_AMT5                   -0.033337             ...               0.160433   \n",
      "PAY_AMT6                   -0.023027             ...               0.177637   \n",
      "default payment next month  0.204149             ...              -0.010156   \n",
      "\n",
      "                            BILL_AMT5  BILL_AMT6  PAY_AMT1  PAY_AMT2  \\\n",
      "LIMIT_BAL                    0.295562   0.290389  0.195236  0.178408   \n",
      "SEX                         -0.017005  -0.016733 -0.000242 -0.001391   \n",
      "EDUCATION                   -0.007567  -0.009099 -0.037456 -0.030038   \n",
      "MARRIAGE                    -0.025393  -0.021207 -0.005979 -0.008093   \n",
      "AGE                          0.049345   0.047613  0.026147  0.021785   \n",
      "PAY_0                        0.180635   0.176980 -0.079269 -0.070101   \n",
      "PAY_2                        0.221348   0.219403 -0.080701 -0.058990   \n",
      "PAY_3                        0.225145   0.222327  0.001295 -0.066793   \n",
      "PAY_4                        0.242902   0.239154 -0.009362 -0.001944   \n",
      "PAY_5                        0.269783   0.262509 -0.006089 -0.003191   \n",
      "PAY_6                        0.290894   0.285091 -0.001496 -0.005223   \n",
      "BILL_AMT1                    0.829779   0.802650  0.140277  0.099355   \n",
      "BILL_AMT2                    0.859778   0.831594  0.280365  0.100851   \n",
      "BILL_AMT3                    0.883910   0.853320  0.244335  0.316936   \n",
      "BILL_AMT4                    0.940134   0.900941  0.233012  0.207564   \n",
      "BILL_AMT5                    1.000000   0.946197  0.217031  0.181246   \n",
      "BILL_AMT6                    0.946197   1.000000  0.199965  0.172663   \n",
      "PAY_AMT1                     0.217031   0.199965  1.000000  0.285576   \n",
      "PAY_AMT2                     0.181246   0.172663  0.285576  1.000000   \n",
      "PAY_AMT3                     0.252305   0.233770  0.252191  0.244770   \n",
      "PAY_AMT4                     0.293118   0.250237  0.199558  0.180107   \n",
      "PAY_AMT5                     0.141574   0.307729  0.148459  0.180908   \n",
      "PAY_AMT6                     0.164184   0.115494  0.185735  0.157634   \n",
      "default payment next month  -0.006760  -0.005372 -0.072929 -0.058579   \n",
      "\n",
      "                            PAY_AMT3  PAY_AMT4  PAY_AMT5  PAY_AMT6  \\\n",
      "LIMIT_BAL                   0.210167  0.203242  0.217202  0.219595   \n",
      "SEX                        -0.008597 -0.002229 -0.001667 -0.002766   \n",
      "EDUCATION                  -0.039943 -0.038218 -0.040358 -0.037200   \n",
      "MARRIAGE                   -0.003541 -0.012659 -0.001205 -0.006641   \n",
      "AGE                         0.029247  0.021379  0.022850  0.019478   \n",
      "PAY_0                      -0.070561 -0.064005 -0.058190 -0.058673   \n",
      "PAY_2                      -0.055901 -0.046858 -0.037093 -0.036500   \n",
      "PAY_3                      -0.053311 -0.046067 -0.035863 -0.035861   \n",
      "PAY_4                      -0.069235 -0.043461 -0.033590 -0.026565   \n",
      "PAY_5                       0.009062 -0.058299 -0.033337 -0.023027   \n",
      "PAY_6                       0.005834  0.019018 -0.046434 -0.025299   \n",
      "BILL_AMT1                   0.156887  0.158303  0.167026  0.179341   \n",
      "BILL_AMT2                   0.150718  0.147398  0.157957  0.174256   \n",
      "BILL_AMT3                   0.130011  0.143405  0.179712  0.182326   \n",
      "BILL_AMT4                   0.300023  0.130191  0.160433  0.177637   \n",
      "BILL_AMT5                   0.252305  0.293118  0.141574  0.164184   \n",
      "BILL_AMT6                   0.233770  0.250237  0.307729  0.115494   \n",
      "PAY_AMT1                    0.252191  0.199558  0.148459  0.185735   \n",
      "PAY_AMT2                    0.244770  0.180107  0.180908  0.157634   \n",
      "PAY_AMT3                    1.000000  0.216325  0.159214  0.162740   \n",
      "PAY_AMT4                    0.216325  1.000000  0.151830  0.157834   \n",
      "PAY_AMT5                    0.159214  0.151830  1.000000  0.154896   \n",
      "PAY_AMT6                    0.162740  0.157834  0.154896  1.000000   \n",
      "default payment next month -0.056250 -0.056827 -0.055124 -0.053183   \n",
      "\n",
      "                            default payment next month  \n",
      "LIMIT_BAL                                    -0.153520  \n",
      "SEX                                          -0.039961  \n",
      "EDUCATION                                     0.028006  \n",
      "MARRIAGE                                     -0.024339  \n",
      "AGE                                           0.013890  \n",
      "PAY_0                                         0.324794  \n",
      "PAY_2                                         0.263551  \n",
      "PAY_3                                         0.235253  \n",
      "PAY_4                                         0.216614  \n",
      "PAY_5                                         0.204149  \n",
      "PAY_6                                         0.186866  \n",
      "BILL_AMT1                                    -0.019644  \n",
      "BILL_AMT2                                    -0.014193  \n",
      "BILL_AMT3                                    -0.014076  \n",
      "BILL_AMT4                                    -0.010156  \n",
      "BILL_AMT5                                    -0.006760  \n",
      "BILL_AMT6                                    -0.005372  \n",
      "PAY_AMT1                                     -0.072929  \n",
      "PAY_AMT2                                     -0.058579  \n",
      "PAY_AMT3                                     -0.056250  \n",
      "PAY_AMT4                                     -0.056827  \n",
      "PAY_AMT5                                     -0.055124  \n",
      "PAY_AMT6                                     -0.053183  \n",
      "default payment next month                    1.000000  \n",
      "\n",
      "[24 rows x 24 columns]\n"
     ]
    }
   ],
   "source": [
    "#Matriz de correlación\n",
    "corrMat = rawData.corr()\n",
    "print(corrMat)"
   ]
  },
  {
   "cell_type": "code",
   "execution_count": 15,
   "metadata": {},
   "outputs": [
    {
     "data": {
      "text/plain": [
       "array([2, 1, 3, 4], dtype=int64)"
      ]
     },
     "execution_count": 15,
     "metadata": {},
     "output_type": "execute_result"
    }
   ],
   "source": [
    "rawData[\"MARRIAGE\"]= np.where(rawData[\"MARRIAGE\"] == 0, 3, rawData[\"MARRIAGE\"])\n",
    "\n",
    "rawData[\"EDUCATION\"]= np.where(rawData[\"EDUCATION\"] == 0, 4, rawData[\"EDUCATION\"])\n",
    "rawData[\"EDUCATION\"]= np.where(rawData[\"EDUCATION\"] == 6, 4, rawData[\"EDUCATION\"])\n",
    "rawData[\"EDUCATION\"]= np.where(rawData[\"EDUCATION\"] == 5, 4, rawData[\"EDUCATION\"])\n",
    "\n",
    "rawData[\"EDUCATION\"].unique()"
   ]
  },
  {
   "cell_type": "code",
   "execution_count": 16,
   "metadata": {},
   "outputs": [],
   "source": [
    "# En PAY_0 Hay muy pocos valores mayores a 4 por lo cual se unifican\n",
    "rawData[\"PAY_0\"]= np.where(rawData[\"PAY_0\"] == 5, 4, rawData[\"PAY_0\"])\n",
    "rawData[\"PAY_0\"]= np.where(rawData[\"PAY_0\"] == 6, 4, rawData[\"PAY_0\"])\n",
    "rawData[\"PAY_0\"]= np.where(rawData[\"PAY_0\"] == 7, 4, rawData[\"PAY_0\"])\n",
    "rawData[\"PAY_0\"]= np.where(rawData[\"PAY_0\"] == 8, 4, rawData[\"PAY_0\"])\n",
    "rawData[\"PAY_0\"]= np.where(rawData[\"PAY_0\"] == 9, 4, rawData[\"PAY_0\"])"
   ]
  },
  {
   "cell_type": "code",
   "execution_count": 17,
   "metadata": {},
   "outputs": [
    {
     "data": {
      "text/plain": [
       "array([ 2,  0, -1, -2,  3,  4,  1], dtype=int64)"
      ]
     },
     "execution_count": 17,
     "metadata": {},
     "output_type": "execute_result"
    }
   ],
   "source": [
    "# En PAY_2 Hay muy pocos valores mayores a 4 por lo cual se unifican\n",
    "rawData[\"PAY_2\"]= np.where(rawData[\"PAY_2\"] == 5, 4, rawData[\"PAY_2\"])\n",
    "rawData[\"PAY_2\"]= np.where(rawData[\"PAY_2\"] == 6, 4, rawData[\"PAY_2\"])\n",
    "rawData[\"PAY_2\"]= np.where(rawData[\"PAY_2\"] == 7, 4, rawData[\"PAY_2\"])\n",
    "rawData[\"PAY_2\"]= np.where(rawData[\"PAY_2\"] == 8, 4, rawData[\"PAY_2\"])\n",
    "rawData[\"PAY_2\"]= np.where(rawData[\"PAY_2\"] == 9, 4, rawData[\"PAY_2\"])\n",
    "rawData[\"PAY_2\"].unique()"
   ]
  },
  {
   "cell_type": "code",
   "execution_count": 18,
   "metadata": {},
   "outputs": [
    {
     "data": {
      "text/plain": [
       "array([-1,  0,  2, -2,  3,  4,  1], dtype=int64)"
      ]
     },
     "execution_count": 18,
     "metadata": {},
     "output_type": "execute_result"
    }
   ],
   "source": [
    "# En PAY_3 Hay muy pocos valores mayores a 4 por lo cual se unifican\n",
    "rawData[\"PAY_3\"]= np.where(rawData[\"PAY_3\"] == 5, 4, rawData[\"PAY_3\"])\n",
    "rawData[\"PAY_3\"]= np.where(rawData[\"PAY_3\"] == 6, 4, rawData[\"PAY_3\"])\n",
    "rawData[\"PAY_3\"]= np.where(rawData[\"PAY_3\"] == 7, 4, rawData[\"PAY_3\"])\n",
    "rawData[\"PAY_3\"]= np.where(rawData[\"PAY_3\"] == 8, 4, rawData[\"PAY_3\"])\n",
    "rawData[\"PAY_3\"]= np.where(rawData[\"PAY_3\"] == 9, 4, rawData[\"PAY_3\"])\n",
    "rawData[\"PAY_3\"].unique()"
   ]
  },
  {
   "cell_type": "code",
   "execution_count": 19,
   "metadata": {},
   "outputs": [
    {
     "data": {
      "text/plain": [
       "array([-1,  0, -2,  2,  3,  4,  1], dtype=int64)"
      ]
     },
     "execution_count": 19,
     "metadata": {},
     "output_type": "execute_result"
    }
   ],
   "source": [
    "# En PAY_4 Hay muy pocos valores mayores a 4 por lo cual se unifican\n",
    "rawData[\"PAY_4\"]= np.where(rawData[\"PAY_4\"] == 5, 4, rawData[\"PAY_4\"])\n",
    "rawData[\"PAY_4\"]= np.where(rawData[\"PAY_4\"] == 6, 4, rawData[\"PAY_4\"])\n",
    "rawData[\"PAY_4\"]= np.where(rawData[\"PAY_4\"] == 7, 4, rawData[\"PAY_4\"])\n",
    "rawData[\"PAY_4\"]= np.where(rawData[\"PAY_4\"] == 8, 4, rawData[\"PAY_4\"])\n",
    "rawData[\"PAY_4\"]= np.where(rawData[\"PAY_4\"] == 9, 4, rawData[\"PAY_4\"])\n",
    "rawData[\"PAY_4\"].unique()"
   ]
  },
  {
   "cell_type": "code",
   "execution_count": 20,
   "metadata": {},
   "outputs": [
    {
     "data": {
      "text/plain": [
       "array([-2,  0, -1,  2,  3,  4], dtype=int64)"
      ]
     },
     "execution_count": 20,
     "metadata": {},
     "output_type": "execute_result"
    }
   ],
   "source": [
    "# En PAY_5 Hay muy pocos valores mayores a 4 por lo cual se unifican\n",
    "rawData[\"PAY_5\"]= np.where(rawData[\"PAY_5\"] == 5, 4, rawData[\"PAY_5\"])\n",
    "rawData[\"PAY_5\"]= np.where(rawData[\"PAY_5\"] == 6, 4, rawData[\"PAY_5\"])\n",
    "rawData[\"PAY_5\"]= np.where(rawData[\"PAY_5\"] == 7, 4, rawData[\"PAY_5\"])\n",
    "rawData[\"PAY_5\"]= np.where(rawData[\"PAY_5\"] == 8, 4, rawData[\"PAY_5\"])\n",
    "rawData[\"PAY_5\"]= np.where(rawData[\"PAY_5\"] == 9, 4, rawData[\"PAY_5\"])\n",
    "rawData[\"PAY_5\"].unique()"
   ]
  },
  {
   "cell_type": "code",
   "execution_count": 21,
   "metadata": {},
   "outputs": [
    {
     "data": {
      "text/plain": [
       "array([-2,  2,  0, -1,  3,  4], dtype=int64)"
      ]
     },
     "execution_count": 21,
     "metadata": {},
     "output_type": "execute_result"
    }
   ],
   "source": [
    "# En PAY_6 Hay muy pocos valores mayores a 4 por lo cual se unifican\n",
    "rawData[\"PAY_6\"]= np.where(rawData[\"PAY_6\"] == 5, 4, rawData[\"PAY_6\"])\n",
    "rawData[\"PAY_6\"]= np.where(rawData[\"PAY_6\"] == 6, 4, rawData[\"PAY_6\"])\n",
    "rawData[\"PAY_6\"]= np.where(rawData[\"PAY_6\"] == 7, 4, rawData[\"PAY_6\"])\n",
    "rawData[\"PAY_6\"]= np.where(rawData[\"PAY_6\"] == 8, 4, rawData[\"PAY_6\"])\n",
    "rawData[\"PAY_6\"]= np.where(rawData[\"PAY_6\"] == 9, 4, rawData[\"PAY_6\"])\n",
    "rawData[\"PAY_6\"].unique()"
   ]
  },
  {
   "cell_type": "code",
   "execution_count": 22,
   "metadata": {},
   "outputs": [],
   "source": [
    "#Se pasan algunas de las variables a categorical\n",
    "rawData[\"SEX\"]= rawData[\"SEX\"].astype(\"category\")\n",
    "rawData[\"EDUCATION\"]= rawData[\"EDUCATION\"].astype(\"category\")\n",
    "rawData[\"MARRIAGE\"]= rawData[\"MARRIAGE\"].astype(\"category\")\n",
    "rawData[\"PAY_0\"]= rawData[\"PAY_0\"].astype(\"category\")\n",
    "rawData[\"PAY_2\"]= rawData[\"PAY_0\"].astype(\"category\")\n",
    "rawData[\"PAY_3\"]= rawData[\"PAY_0\"].astype(\"category\")\n",
    "rawData[\"PAY_4\"]= rawData[\"PAY_0\"].astype(\"category\")\n",
    "rawData[\"PAY_5\"]= rawData[\"PAY_0\"].astype(\"category\")\n",
    "rawData[\"PAY_6\"]= rawData[\"PAY_0\"].astype(\"category\")\n",
    "rawData[\"default payment next month\"]= rawData[\"default payment next month\"].astype(\"category\")"
   ]
  },
  {
   "cell_type": "code",
   "execution_count": 23,
   "metadata": {},
   "outputs": [
    {
     "name": "stdout",
     "output_type": "stream",
     "text": [
      "<class 'pandas.core.frame.DataFrame'>\n",
      "RangeIndex: 30000 entries, 0 to 29999\n",
      "Data columns (total 24 columns):\n",
      "LIMIT_BAL                     30000 non-null int64\n",
      "SEX                           30000 non-null category\n",
      "EDUCATION                     30000 non-null category\n",
      "MARRIAGE                      30000 non-null category\n",
      "AGE                           30000 non-null int64\n",
      "PAY_0                         30000 non-null category\n",
      "PAY_2                         30000 non-null category\n",
      "PAY_3                         30000 non-null category\n",
      "PAY_4                         30000 non-null category\n",
      "PAY_5                         30000 non-null category\n",
      "PAY_6                         30000 non-null category\n",
      "BILL_AMT1                     30000 non-null int64\n",
      "BILL_AMT2                     30000 non-null int64\n",
      "BILL_AMT3                     30000 non-null int64\n",
      "BILL_AMT4                     30000 non-null int64\n",
      "BILL_AMT5                     30000 non-null int64\n",
      "BILL_AMT6                     30000 non-null int64\n",
      "PAY_AMT1                      30000 non-null int64\n",
      "PAY_AMT2                      30000 non-null int64\n",
      "PAY_AMT3                      30000 non-null int64\n",
      "PAY_AMT4                      30000 non-null int64\n",
      "PAY_AMT5                      30000 non-null int64\n",
      "PAY_AMT6                      30000 non-null int64\n",
      "default payment next month    30000 non-null category\n",
      "dtypes: category(10), int64(14)\n",
      "memory usage: 3.5 MB\n"
     ]
    }
   ],
   "source": [
    "rawData.info()"
   ]
  },
  {
   "cell_type": "code",
   "execution_count": 12,
   "metadata": {},
   "outputs": [
    {
     "data": {
      "text/plain": [
       "[2, -1, 0, -2, 1, 3, 4]\n",
       "Categories (7, int64): [2, -1, 0, -2, 1, 3, 4]"
      ]
     },
     "execution_count": 12,
     "metadata": {},
     "output_type": "execute_result"
    }
   ],
   "source": [
    "rawData[\"PAY_5\"].unique()"
   ]
  },
  {
   "cell_type": "code",
   "execution_count": 24,
   "metadata": {
    "scrolled": true
   },
   "outputs": [
    {
     "data": {
      "text/html": [
       "<div>\n",
       "<style scoped>\n",
       "    .dataframe tbody tr th:only-of-type {\n",
       "        vertical-align: middle;\n",
       "    }\n",
       "\n",
       "    .dataframe tbody tr th {\n",
       "        vertical-align: top;\n",
       "    }\n",
       "\n",
       "    .dataframe thead th {\n",
       "        text-align: right;\n",
       "    }\n",
       "</style>\n",
       "<table border=\"1\" class=\"dataframe\">\n",
       "  <thead>\n",
       "    <tr style=\"text-align: right;\">\n",
       "      <th></th>\n",
       "      <th>LIMIT_BAL</th>\n",
       "      <th>SEX</th>\n",
       "      <th>EDUCATION</th>\n",
       "      <th>MARRIAGE</th>\n",
       "      <th>AGE</th>\n",
       "      <th>PAY_0</th>\n",
       "      <th>PAY_2</th>\n",
       "      <th>PAY_3</th>\n",
       "      <th>PAY_4</th>\n",
       "      <th>PAY_5</th>\n",
       "      <th>...</th>\n",
       "      <th>BILL_AMT3</th>\n",
       "      <th>BILL_AMT4</th>\n",
       "      <th>BILL_AMT5</th>\n",
       "      <th>BILL_AMT6</th>\n",
       "      <th>PAY_AMT1</th>\n",
       "      <th>PAY_AMT2</th>\n",
       "      <th>PAY_AMT3</th>\n",
       "      <th>PAY_AMT4</th>\n",
       "      <th>PAY_AMT5</th>\n",
       "      <th>PAY_AMT6</th>\n",
       "    </tr>\n",
       "  </thead>\n",
       "  <tbody>\n",
       "    <tr>\n",
       "      <th>0</th>\n",
       "      <td>20000</td>\n",
       "      <td>2</td>\n",
       "      <td>2</td>\n",
       "      <td>1</td>\n",
       "      <td>24</td>\n",
       "      <td>2</td>\n",
       "      <td>2</td>\n",
       "      <td>2</td>\n",
       "      <td>2</td>\n",
       "      <td>2</td>\n",
       "      <td>...</td>\n",
       "      <td>689</td>\n",
       "      <td>0</td>\n",
       "      <td>0</td>\n",
       "      <td>0</td>\n",
       "      <td>0</td>\n",
       "      <td>689</td>\n",
       "      <td>0</td>\n",
       "      <td>0</td>\n",
       "      <td>0</td>\n",
       "      <td>0</td>\n",
       "    </tr>\n",
       "    <tr>\n",
       "      <th>1</th>\n",
       "      <td>120000</td>\n",
       "      <td>2</td>\n",
       "      <td>2</td>\n",
       "      <td>2</td>\n",
       "      <td>26</td>\n",
       "      <td>-1</td>\n",
       "      <td>-1</td>\n",
       "      <td>-1</td>\n",
       "      <td>-1</td>\n",
       "      <td>-1</td>\n",
       "      <td>...</td>\n",
       "      <td>2682</td>\n",
       "      <td>3272</td>\n",
       "      <td>3455</td>\n",
       "      <td>3261</td>\n",
       "      <td>0</td>\n",
       "      <td>1000</td>\n",
       "      <td>1000</td>\n",
       "      <td>1000</td>\n",
       "      <td>0</td>\n",
       "      <td>2000</td>\n",
       "    </tr>\n",
       "    <tr>\n",
       "      <th>2</th>\n",
       "      <td>90000</td>\n",
       "      <td>2</td>\n",
       "      <td>2</td>\n",
       "      <td>2</td>\n",
       "      <td>34</td>\n",
       "      <td>0</td>\n",
       "      <td>0</td>\n",
       "      <td>0</td>\n",
       "      <td>0</td>\n",
       "      <td>0</td>\n",
       "      <td>...</td>\n",
       "      <td>13559</td>\n",
       "      <td>14331</td>\n",
       "      <td>14948</td>\n",
       "      <td>15549</td>\n",
       "      <td>1518</td>\n",
       "      <td>1500</td>\n",
       "      <td>1000</td>\n",
       "      <td>1000</td>\n",
       "      <td>1000</td>\n",
       "      <td>5000</td>\n",
       "    </tr>\n",
       "    <tr>\n",
       "      <th>3</th>\n",
       "      <td>50000</td>\n",
       "      <td>2</td>\n",
       "      <td>2</td>\n",
       "      <td>1</td>\n",
       "      <td>37</td>\n",
       "      <td>0</td>\n",
       "      <td>0</td>\n",
       "      <td>0</td>\n",
       "      <td>0</td>\n",
       "      <td>0</td>\n",
       "      <td>...</td>\n",
       "      <td>49291</td>\n",
       "      <td>28314</td>\n",
       "      <td>28959</td>\n",
       "      <td>29547</td>\n",
       "      <td>2000</td>\n",
       "      <td>2019</td>\n",
       "      <td>1200</td>\n",
       "      <td>1100</td>\n",
       "      <td>1069</td>\n",
       "      <td>1000</td>\n",
       "    </tr>\n",
       "    <tr>\n",
       "      <th>4</th>\n",
       "      <td>50000</td>\n",
       "      <td>1</td>\n",
       "      <td>2</td>\n",
       "      <td>1</td>\n",
       "      <td>57</td>\n",
       "      <td>-1</td>\n",
       "      <td>-1</td>\n",
       "      <td>-1</td>\n",
       "      <td>-1</td>\n",
       "      <td>-1</td>\n",
       "      <td>...</td>\n",
       "      <td>35835</td>\n",
       "      <td>20940</td>\n",
       "      <td>19146</td>\n",
       "      <td>19131</td>\n",
       "      <td>2000</td>\n",
       "      <td>36681</td>\n",
       "      <td>10000</td>\n",
       "      <td>9000</td>\n",
       "      <td>689</td>\n",
       "      <td>679</td>\n",
       "    </tr>\n",
       "  </tbody>\n",
       "</table>\n",
       "<p>5 rows × 23 columns</p>\n",
       "</div>"
      ],
      "text/plain": [
       "   LIMIT_BAL SEX EDUCATION MARRIAGE  AGE PAY_0 PAY_2 PAY_3 PAY_4 PAY_5  \\\n",
       "0      20000   2         2        1   24     2     2     2     2     2   \n",
       "1     120000   2         2        2   26    -1    -1    -1    -1    -1   \n",
       "2      90000   2         2        2   34     0     0     0     0     0   \n",
       "3      50000   2         2        1   37     0     0     0     0     0   \n",
       "4      50000   1         2        1   57    -1    -1    -1    -1    -1   \n",
       "\n",
       "     ...    BILL_AMT3  BILL_AMT4  BILL_AMT5  BILL_AMT6  PAY_AMT1  PAY_AMT2  \\\n",
       "0    ...          689          0          0          0         0       689   \n",
       "1    ...         2682       3272       3455       3261         0      1000   \n",
       "2    ...        13559      14331      14948      15549      1518      1500   \n",
       "3    ...        49291      28314      28959      29547      2000      2019   \n",
       "4    ...        35835      20940      19146      19131      2000     36681   \n",
       "\n",
       "   PAY_AMT3  PAY_AMT4  PAY_AMT5  PAY_AMT6  \n",
       "0         0         0         0         0  \n",
       "1      1000      1000         0      2000  \n",
       "2      1000      1000      1000      5000  \n",
       "3      1200      1100      1069      1000  \n",
       "4     10000      9000       689       679  \n",
       "\n",
       "[5 rows x 23 columns]"
      ]
     },
     "execution_count": 24,
     "metadata": {},
     "output_type": "execute_result"
    }
   ],
   "source": [
    "newDataDummy=rawData.iloc[ : ,0:23]\n",
    "newDataDummy.head()"
   ]
  },
  {
   "cell_type": "code",
   "execution_count": 25,
   "metadata": {},
   "outputs": [
    {
     "name": "stdout",
     "output_type": "stream",
     "text": [
      "<class 'pandas.core.frame.DataFrame'>\n",
      "RangeIndex: 30000 entries, 0 to 29999\n",
      "Data columns (total 23 columns):\n",
      "LIMIT_BAL    30000 non-null int64\n",
      "SEX          30000 non-null category\n",
      "EDUCATION    30000 non-null category\n",
      "MARRIAGE     30000 non-null category\n",
      "AGE          30000 non-null int64\n",
      "PAY_0        30000 non-null category\n",
      "PAY_2        30000 non-null category\n",
      "PAY_3        30000 non-null category\n",
      "PAY_4        30000 non-null category\n",
      "PAY_5        30000 non-null category\n",
      "PAY_6        30000 non-null category\n",
      "BILL_AMT1    30000 non-null int64\n",
      "BILL_AMT2    30000 non-null int64\n",
      "BILL_AMT3    30000 non-null int64\n",
      "BILL_AMT4    30000 non-null int64\n",
      "BILL_AMT5    30000 non-null int64\n",
      "BILL_AMT6    30000 non-null int64\n",
      "PAY_AMT1     30000 non-null int64\n",
      "PAY_AMT2     30000 non-null int64\n",
      "PAY_AMT3     30000 non-null int64\n",
      "PAY_AMT4     30000 non-null int64\n",
      "PAY_AMT5     30000 non-null int64\n",
      "PAY_AMT6     30000 non-null int64\n",
      "dtypes: category(9), int64(14)\n",
      "memory usage: 3.5 MB\n"
     ]
    }
   ],
   "source": [
    "newDataDummy.info()"
   ]
  },
  {
   "cell_type": "markdown",
   "metadata": {},
   "source": [
    "### Dummy Variables"
   ]
  },
  {
   "cell_type": "code",
   "execution_count": 26,
   "metadata": {},
   "outputs": [
    {
     "data": {
      "text/html": [
       "<div>\n",
       "<style scoped>\n",
       "    .dataframe tbody tr th:only-of-type {\n",
       "        vertical-align: middle;\n",
       "    }\n",
       "\n",
       "    .dataframe tbody tr th {\n",
       "        vertical-align: top;\n",
       "    }\n",
       "\n",
       "    .dataframe thead th {\n",
       "        text-align: right;\n",
       "    }\n",
       "</style>\n",
       "<table border=\"1\" class=\"dataframe\">\n",
       "  <thead>\n",
       "    <tr style=\"text-align: right;\">\n",
       "      <th></th>\n",
       "      <th>LIMIT_BAL</th>\n",
       "      <th>AGE</th>\n",
       "      <th>BILL_AMT1</th>\n",
       "      <th>BILL_AMT2</th>\n",
       "      <th>BILL_AMT3</th>\n",
       "      <th>BILL_AMT4</th>\n",
       "      <th>BILL_AMT5</th>\n",
       "      <th>BILL_AMT6</th>\n",
       "      <th>PAY_AMT1</th>\n",
       "      <th>PAY_AMT2</th>\n",
       "      <th>...</th>\n",
       "      <th>PAY_5_2</th>\n",
       "      <th>PAY_5_3</th>\n",
       "      <th>PAY_5_4</th>\n",
       "      <th>PAY_6_-2</th>\n",
       "      <th>PAY_6_-1</th>\n",
       "      <th>PAY_6_0</th>\n",
       "      <th>PAY_6_1</th>\n",
       "      <th>PAY_6_2</th>\n",
       "      <th>PAY_6_3</th>\n",
       "      <th>PAY_6_4</th>\n",
       "    </tr>\n",
       "  </thead>\n",
       "  <tbody>\n",
       "    <tr>\n",
       "      <th>0</th>\n",
       "      <td>20000</td>\n",
       "      <td>24</td>\n",
       "      <td>3913</td>\n",
       "      <td>3102</td>\n",
       "      <td>689</td>\n",
       "      <td>0</td>\n",
       "      <td>0</td>\n",
       "      <td>0</td>\n",
       "      <td>0</td>\n",
       "      <td>689</td>\n",
       "      <td>...</td>\n",
       "      <td>1</td>\n",
       "      <td>0</td>\n",
       "      <td>0</td>\n",
       "      <td>0</td>\n",
       "      <td>0</td>\n",
       "      <td>0</td>\n",
       "      <td>0</td>\n",
       "      <td>1</td>\n",
       "      <td>0</td>\n",
       "      <td>0</td>\n",
       "    </tr>\n",
       "    <tr>\n",
       "      <th>1</th>\n",
       "      <td>120000</td>\n",
       "      <td>26</td>\n",
       "      <td>2682</td>\n",
       "      <td>1725</td>\n",
       "      <td>2682</td>\n",
       "      <td>3272</td>\n",
       "      <td>3455</td>\n",
       "      <td>3261</td>\n",
       "      <td>0</td>\n",
       "      <td>1000</td>\n",
       "      <td>...</td>\n",
       "      <td>0</td>\n",
       "      <td>0</td>\n",
       "      <td>0</td>\n",
       "      <td>0</td>\n",
       "      <td>1</td>\n",
       "      <td>0</td>\n",
       "      <td>0</td>\n",
       "      <td>0</td>\n",
       "      <td>0</td>\n",
       "      <td>0</td>\n",
       "    </tr>\n",
       "    <tr>\n",
       "      <th>2</th>\n",
       "      <td>90000</td>\n",
       "      <td>34</td>\n",
       "      <td>29239</td>\n",
       "      <td>14027</td>\n",
       "      <td>13559</td>\n",
       "      <td>14331</td>\n",
       "      <td>14948</td>\n",
       "      <td>15549</td>\n",
       "      <td>1518</td>\n",
       "      <td>1500</td>\n",
       "      <td>...</td>\n",
       "      <td>0</td>\n",
       "      <td>0</td>\n",
       "      <td>0</td>\n",
       "      <td>0</td>\n",
       "      <td>0</td>\n",
       "      <td>1</td>\n",
       "      <td>0</td>\n",
       "      <td>0</td>\n",
       "      <td>0</td>\n",
       "      <td>0</td>\n",
       "    </tr>\n",
       "    <tr>\n",
       "      <th>3</th>\n",
       "      <td>50000</td>\n",
       "      <td>37</td>\n",
       "      <td>46990</td>\n",
       "      <td>48233</td>\n",
       "      <td>49291</td>\n",
       "      <td>28314</td>\n",
       "      <td>28959</td>\n",
       "      <td>29547</td>\n",
       "      <td>2000</td>\n",
       "      <td>2019</td>\n",
       "      <td>...</td>\n",
       "      <td>0</td>\n",
       "      <td>0</td>\n",
       "      <td>0</td>\n",
       "      <td>0</td>\n",
       "      <td>0</td>\n",
       "      <td>1</td>\n",
       "      <td>0</td>\n",
       "      <td>0</td>\n",
       "      <td>0</td>\n",
       "      <td>0</td>\n",
       "    </tr>\n",
       "    <tr>\n",
       "      <th>4</th>\n",
       "      <td>50000</td>\n",
       "      <td>57</td>\n",
       "      <td>8617</td>\n",
       "      <td>5670</td>\n",
       "      <td>35835</td>\n",
       "      <td>20940</td>\n",
       "      <td>19146</td>\n",
       "      <td>19131</td>\n",
       "      <td>2000</td>\n",
       "      <td>36681</td>\n",
       "      <td>...</td>\n",
       "      <td>0</td>\n",
       "      <td>0</td>\n",
       "      <td>0</td>\n",
       "      <td>0</td>\n",
       "      <td>1</td>\n",
       "      <td>0</td>\n",
       "      <td>0</td>\n",
       "      <td>0</td>\n",
       "      <td>0</td>\n",
       "      <td>0</td>\n",
       "    </tr>\n",
       "  </tbody>\n",
       "</table>\n",
       "<p>5 rows × 65 columns</p>\n",
       "</div>"
      ],
      "text/plain": [
       "   LIMIT_BAL  AGE  BILL_AMT1  BILL_AMT2  BILL_AMT3  BILL_AMT4  BILL_AMT5  \\\n",
       "0      20000   24       3913       3102        689          0          0   \n",
       "1     120000   26       2682       1725       2682       3272       3455   \n",
       "2      90000   34      29239      14027      13559      14331      14948   \n",
       "3      50000   37      46990      48233      49291      28314      28959   \n",
       "4      50000   57       8617       5670      35835      20940      19146   \n",
       "\n",
       "   BILL_AMT6  PAY_AMT1  PAY_AMT2   ...     PAY_5_2  PAY_5_3  PAY_5_4  \\\n",
       "0          0         0       689   ...           1        0        0   \n",
       "1       3261         0      1000   ...           0        0        0   \n",
       "2      15549      1518      1500   ...           0        0        0   \n",
       "3      29547      2000      2019   ...           0        0        0   \n",
       "4      19131      2000     36681   ...           0        0        0   \n",
       "\n",
       "   PAY_6_-2  PAY_6_-1  PAY_6_0  PAY_6_1  PAY_6_2  PAY_6_3  PAY_6_4  \n",
       "0         0         0        0        0        1        0        0  \n",
       "1         0         1        0        0        0        0        0  \n",
       "2         0         0        1        0        0        0        0  \n",
       "3         0         0        1        0        0        0        0  \n",
       "4         0         1        0        0        0        0        0  \n",
       "\n",
       "[5 rows x 65 columns]"
      ]
     },
     "execution_count": 26,
     "metadata": {},
     "output_type": "execute_result"
    }
   ],
   "source": [
    "newDataDummy = pd.get_dummies(newDataDummy)\n",
    "newDataDummy.head()"
   ]
  },
  {
   "cell_type": "code",
   "execution_count": 27,
   "metadata": {},
   "outputs": [
    {
     "name": "stdout",
     "output_type": "stream",
     "text": [
      "<class 'pandas.core.frame.DataFrame'>\n",
      "RangeIndex: 30000 entries, 0 to 29999\n",
      "Data columns (total 65 columns):\n",
      "LIMIT_BAL      30000 non-null int64\n",
      "AGE            30000 non-null int64\n",
      "BILL_AMT1      30000 non-null int64\n",
      "BILL_AMT2      30000 non-null int64\n",
      "BILL_AMT3      30000 non-null int64\n",
      "BILL_AMT4      30000 non-null int64\n",
      "BILL_AMT5      30000 non-null int64\n",
      "BILL_AMT6      30000 non-null int64\n",
      "PAY_AMT1       30000 non-null int64\n",
      "PAY_AMT2       30000 non-null int64\n",
      "PAY_AMT3       30000 non-null int64\n",
      "PAY_AMT4       30000 non-null int64\n",
      "PAY_AMT5       30000 non-null int64\n",
      "PAY_AMT6       30000 non-null int64\n",
      "SEX_1          30000 non-null uint8\n",
      "SEX_2          30000 non-null uint8\n",
      "EDUCATION_1    30000 non-null uint8\n",
      "EDUCATION_2    30000 non-null uint8\n",
      "EDUCATION_3    30000 non-null uint8\n",
      "EDUCATION_4    30000 non-null uint8\n",
      "MARRIAGE_1     30000 non-null uint8\n",
      "MARRIAGE_2     30000 non-null uint8\n",
      "MARRIAGE_3     30000 non-null uint8\n",
      "PAY_0_-2       30000 non-null uint8\n",
      "PAY_0_-1       30000 non-null uint8\n",
      "PAY_0_0        30000 non-null uint8\n",
      "PAY_0_1        30000 non-null uint8\n",
      "PAY_0_2        30000 non-null uint8\n",
      "PAY_0_3        30000 non-null uint8\n",
      "PAY_0_4        30000 non-null uint8\n",
      "PAY_2_-2       30000 non-null uint8\n",
      "PAY_2_-1       30000 non-null uint8\n",
      "PAY_2_0        30000 non-null uint8\n",
      "PAY_2_1        30000 non-null uint8\n",
      "PAY_2_2        30000 non-null uint8\n",
      "PAY_2_3        30000 non-null uint8\n",
      "PAY_2_4        30000 non-null uint8\n",
      "PAY_3_-2       30000 non-null uint8\n",
      "PAY_3_-1       30000 non-null uint8\n",
      "PAY_3_0        30000 non-null uint8\n",
      "PAY_3_1        30000 non-null uint8\n",
      "PAY_3_2        30000 non-null uint8\n",
      "PAY_3_3        30000 non-null uint8\n",
      "PAY_3_4        30000 non-null uint8\n",
      "PAY_4_-2       30000 non-null uint8\n",
      "PAY_4_-1       30000 non-null uint8\n",
      "PAY_4_0        30000 non-null uint8\n",
      "PAY_4_1        30000 non-null uint8\n",
      "PAY_4_2        30000 non-null uint8\n",
      "PAY_4_3        30000 non-null uint8\n",
      "PAY_4_4        30000 non-null uint8\n",
      "PAY_5_-2       30000 non-null uint8\n",
      "PAY_5_-1       30000 non-null uint8\n",
      "PAY_5_0        30000 non-null uint8\n",
      "PAY_5_1        30000 non-null uint8\n",
      "PAY_5_2        30000 non-null uint8\n",
      "PAY_5_3        30000 non-null uint8\n",
      "PAY_5_4        30000 non-null uint8\n",
      "PAY_6_-2       30000 non-null uint8\n",
      "PAY_6_-1       30000 non-null uint8\n",
      "PAY_6_0        30000 non-null uint8\n",
      "PAY_6_1        30000 non-null uint8\n",
      "PAY_6_2        30000 non-null uint8\n",
      "PAY_6_3        30000 non-null uint8\n",
      "PAY_6_4        30000 non-null uint8\n",
      "dtypes: int64(14), uint8(51)\n",
      "memory usage: 4.7 MB\n"
     ]
    }
   ],
   "source": [
    "newDataDummy.info()"
   ]
  },
  {
   "cell_type": "code",
   "execution_count": 27,
   "metadata": {},
   "outputs": [],
   "source": [
    "newDataDummy[\"DefaultPaymentNextMonth\"] = rawData[\"default payment next month\"]\n"
   ]
  },
  {
   "cell_type": "code",
   "execution_count": 28,
   "metadata": {},
   "outputs": [
    {
     "name": "stdout",
     "output_type": "stream",
     "text": [
      "<class 'pandas.core.frame.DataFrame'>\n",
      "RangeIndex: 30000 entries, 0 to 29999\n",
      "Data columns (total 66 columns):\n",
      "LIMIT_BAL                  30000 non-null int64\n",
      "AGE                        30000 non-null int64\n",
      "BILL_AMT1                  30000 non-null int64\n",
      "BILL_AMT2                  30000 non-null int64\n",
      "BILL_AMT3                  30000 non-null int64\n",
      "BILL_AMT4                  30000 non-null int64\n",
      "BILL_AMT5                  30000 non-null int64\n",
      "BILL_AMT6                  30000 non-null int64\n",
      "PAY_AMT1                   30000 non-null int64\n",
      "PAY_AMT2                   30000 non-null int64\n",
      "PAY_AMT3                   30000 non-null int64\n",
      "PAY_AMT4                   30000 non-null int64\n",
      "PAY_AMT5                   30000 non-null int64\n",
      "PAY_AMT6                   30000 non-null int64\n",
      "SEX_1                      30000 non-null uint8\n",
      "SEX_2                      30000 non-null uint8\n",
      "EDUCATION_1                30000 non-null uint8\n",
      "EDUCATION_2                30000 non-null uint8\n",
      "EDUCATION_3                30000 non-null uint8\n",
      "EDUCATION_4                30000 non-null uint8\n",
      "MARRIAGE_1                 30000 non-null uint8\n",
      "MARRIAGE_2                 30000 non-null uint8\n",
      "MARRIAGE_3                 30000 non-null uint8\n",
      "PAY_0_-2                   30000 non-null uint8\n",
      "PAY_0_-1                   30000 non-null uint8\n",
      "PAY_0_0                    30000 non-null uint8\n",
      "PAY_0_1                    30000 non-null uint8\n",
      "PAY_0_2                    30000 non-null uint8\n",
      "PAY_0_3                    30000 non-null uint8\n",
      "PAY_0_4                    30000 non-null uint8\n",
      "PAY_2_-2                   30000 non-null uint8\n",
      "PAY_2_-1                   30000 non-null uint8\n",
      "PAY_2_0                    30000 non-null uint8\n",
      "PAY_2_1                    30000 non-null uint8\n",
      "PAY_2_2                    30000 non-null uint8\n",
      "PAY_2_3                    30000 non-null uint8\n",
      "PAY_2_4                    30000 non-null uint8\n",
      "PAY_3_-2                   30000 non-null uint8\n",
      "PAY_3_-1                   30000 non-null uint8\n",
      "PAY_3_0                    30000 non-null uint8\n",
      "PAY_3_1                    30000 non-null uint8\n",
      "PAY_3_2                    30000 non-null uint8\n",
      "PAY_3_3                    30000 non-null uint8\n",
      "PAY_3_4                    30000 non-null uint8\n",
      "PAY_4_-2                   30000 non-null uint8\n",
      "PAY_4_-1                   30000 non-null uint8\n",
      "PAY_4_0                    30000 non-null uint8\n",
      "PAY_4_1                    30000 non-null uint8\n",
      "PAY_4_2                    30000 non-null uint8\n",
      "PAY_4_3                    30000 non-null uint8\n",
      "PAY_4_4                    30000 non-null uint8\n",
      "PAY_5_-2                   30000 non-null uint8\n",
      "PAY_5_-1                   30000 non-null uint8\n",
      "PAY_5_0                    30000 non-null uint8\n",
      "PAY_5_1                    30000 non-null uint8\n",
      "PAY_5_2                    30000 non-null uint8\n",
      "PAY_5_3                    30000 non-null uint8\n",
      "PAY_5_4                    30000 non-null uint8\n",
      "PAY_6_-2                   30000 non-null uint8\n",
      "PAY_6_-1                   30000 non-null uint8\n",
      "PAY_6_0                    30000 non-null uint8\n",
      "PAY_6_1                    30000 non-null uint8\n",
      "PAY_6_2                    30000 non-null uint8\n",
      "PAY_6_3                    30000 non-null uint8\n",
      "PAY_6_4                    30000 non-null uint8\n",
      "DefaultPaymentNextMonth    30000 non-null category\n",
      "dtypes: category(1), int64(14), uint8(51)\n",
      "memory usage: 4.7 MB\n"
     ]
    }
   ],
   "source": [
    "newDataDummy.info()"
   ]
  },
  {
   "cell_type": "code",
   "execution_count": 44,
   "metadata": {},
   "outputs": [
    {
     "name": "stdout",
     "output_type": "stream",
     "text": [
      "                         LIMIT_BAL       AGE  BILL_AMT1  BILL_AMT2  BILL_AMT3  \\\n",
      "LIMIT_BAL                 1.000000  0.144713   0.285430   0.278314   0.283236   \n",
      "AGE                       0.144713  1.000000   0.056239   0.054283   0.053710   \n",
      "BILL_AMT1                 0.285430  0.056239   1.000000   0.951484   0.892279   \n",
      "BILL_AMT2                 0.278314  0.054283   0.951484   1.000000   0.928326   \n",
      "BILL_AMT3                 0.283236  0.053710   0.892279   0.928326   1.000000   \n",
      "BILL_AMT4                 0.293988  0.051353   0.860272   0.892482   0.923969   \n",
      "BILL_AMT5                 0.295562  0.049345   0.829779   0.859778   0.883910   \n",
      "BILL_AMT6                 0.290389  0.047613   0.802650   0.831594   0.853320   \n",
      "PAY_AMT1                  0.195236  0.026147   0.140277   0.280365   0.244335   \n",
      "PAY_AMT2                  0.178408  0.021785   0.099355   0.100851   0.316936   \n",
      "PAY_AMT3                  0.210167  0.029247   0.156887   0.150718   0.130011   \n",
      "PAY_AMT4                  0.203242  0.021379   0.158303   0.147398   0.143405   \n",
      "PAY_AMT5                  0.217202  0.022850   0.167026   0.157957   0.179712   \n",
      "PAY_AMT6                  0.219595  0.019478   0.179341   0.174256   0.182326   \n",
      "SEX_1                    -0.024755  0.090874   0.033642   0.031183   0.024563   \n",
      "SEX_2                     0.024755 -0.090874  -0.033642  -0.031183  -0.024563   \n",
      "EDUCATION_1               0.258777 -0.100423  -0.024045  -0.020334  -0.013112   \n",
      "EDUCATION_2              -0.147530 -0.077626   0.030323   0.028716   0.022288   \n",
      "EDUCATION_3              -0.139686  0.231252  -0.022006  -0.022761  -0.022807   \n",
      "EDUCATION_4               0.013420  0.008982   0.036364   0.030778   0.028952   \n",
      "MARRIAGE_1                0.103701  0.449425   0.025264   0.022429   0.025946   \n",
      "MARRIAGE_2               -0.090998 -0.466584  -0.021347  -0.018339  -0.021402   \n",
      "MARRIAGE_3               -0.056001  0.080767  -0.017327  -0.018124  -0.020128   \n",
      "PAY_0_-2                  0.203359  0.051225  -0.183383  -0.181402  -0.168510   \n",
      "PAY_0_-1                  0.146423  0.034761  -0.267546  -0.259147  -0.241182   \n",
      "PAY_0_0                  -0.100115 -0.054286   0.362898   0.345969   0.317887   \n",
      "PAY_0_1                  -0.053926 -0.001878  -0.122382  -0.116521  -0.106641   \n",
      "PAY_0_2                  -0.134798 -0.002285   0.057969   0.066698   0.066884   \n",
      "PAY_0_3                  -0.068988 -0.001836  -0.018960  -0.017684  -0.017061   \n",
      "PAY_0_4                  -0.042767  0.002461   0.030317   0.031178   0.029870   \n",
      "...                            ...       ...        ...        ...        ...   \n",
      "PAY_2_4                  -0.042767  0.002461   0.030317   0.031178   0.029870   \n",
      "PAY_3_-2                  0.203359  0.051225  -0.183383  -0.181402  -0.168510   \n",
      "PAY_3_-1                  0.146423  0.034761  -0.267546  -0.259147  -0.241182   \n",
      "PAY_3_0                  -0.100115 -0.054286   0.362898   0.345969   0.317887   \n",
      "PAY_3_1                  -0.053926 -0.001878  -0.122382  -0.116521  -0.106641   \n",
      "PAY_3_2                  -0.134798 -0.002285   0.057969   0.066698   0.066884   \n",
      "PAY_3_3                  -0.068988 -0.001836  -0.018960  -0.017684  -0.017061   \n",
      "PAY_3_4                  -0.042767  0.002461   0.030317   0.031178   0.029870   \n",
      "PAY_4_-2                  0.203359  0.051225  -0.183383  -0.181402  -0.168510   \n",
      "PAY_4_-1                  0.146423  0.034761  -0.267546  -0.259147  -0.241182   \n",
      "PAY_4_0                  -0.100115 -0.054286   0.362898   0.345969   0.317887   \n",
      "PAY_4_1                  -0.053926 -0.001878  -0.122382  -0.116521  -0.106641   \n",
      "PAY_4_2                  -0.134798 -0.002285   0.057969   0.066698   0.066884   \n",
      "PAY_4_3                  -0.068988 -0.001836  -0.018960  -0.017684  -0.017061   \n",
      "PAY_4_4                  -0.042767  0.002461   0.030317   0.031178   0.029870   \n",
      "PAY_5_-2                  0.203359  0.051225  -0.183383  -0.181402  -0.168510   \n",
      "PAY_5_-1                  0.146423  0.034761  -0.267546  -0.259147  -0.241182   \n",
      "PAY_5_0                  -0.100115 -0.054286   0.362898   0.345969   0.317887   \n",
      "PAY_5_1                  -0.053926 -0.001878  -0.122382  -0.116521  -0.106641   \n",
      "PAY_5_2                  -0.134798 -0.002285   0.057969   0.066698   0.066884   \n",
      "PAY_5_3                  -0.068988 -0.001836  -0.018960  -0.017684  -0.017061   \n",
      "PAY_5_4                  -0.042767  0.002461   0.030317   0.031178   0.029870   \n",
      "PAY_6_-2                  0.203359  0.051225  -0.183383  -0.181402  -0.168510   \n",
      "PAY_6_-1                  0.146423  0.034761  -0.267546  -0.259147  -0.241182   \n",
      "PAY_6_0                  -0.100115 -0.054286   0.362898   0.345969   0.317887   \n",
      "PAY_6_1                  -0.053926 -0.001878  -0.122382  -0.116521  -0.106641   \n",
      "PAY_6_2                  -0.134798 -0.002285   0.057969   0.066698   0.066884   \n",
      "PAY_6_3                  -0.068988 -0.001836  -0.018960  -0.017684  -0.017061   \n",
      "PAY_6_4                  -0.042767  0.002461   0.030317   0.031178   0.029870   \n",
      "DefaultPaymentNextMonth  -0.153520  0.013890  -0.019644  -0.014193  -0.014076   \n",
      "\n",
      "                         BILL_AMT4  BILL_AMT5  BILL_AMT6  PAY_AMT1  PAY_AMT2  \\\n",
      "LIMIT_BAL                 0.293988   0.295562   0.290389  0.195236  0.178408   \n",
      "AGE                       0.051353   0.049345   0.047613  0.026147  0.021785   \n",
      "BILL_AMT1                 0.860272   0.829779   0.802650  0.140277  0.099355   \n",
      "BILL_AMT2                 0.892482   0.859778   0.831594  0.280365  0.100851   \n",
      "BILL_AMT3                 0.923969   0.883910   0.853320  0.244335  0.316936   \n",
      "BILL_AMT4                 1.000000   0.940134   0.900941  0.233012  0.207564   \n",
      "BILL_AMT5                 0.940134   1.000000   0.946197  0.217031  0.181246   \n",
      "BILL_AMT6                 0.900941   0.946197   1.000000  0.199965  0.172663   \n",
      "PAY_AMT1                  0.233012   0.217031   0.199965  1.000000  0.285576   \n",
      "PAY_AMT2                  0.207564   0.181246   0.172663  0.285576  1.000000   \n",
      "PAY_AMT3                  0.300023   0.252305   0.233770  0.252191  0.244770   \n",
      "PAY_AMT4                  0.130191   0.293118   0.250237  0.199558  0.180107   \n",
      "PAY_AMT5                  0.160433   0.141574   0.307729  0.148459  0.180908   \n",
      "PAY_AMT6                  0.177637   0.164184   0.115494  0.185735  0.157634   \n",
      "SEX_1                     0.021880   0.017005   0.016733  0.000242  0.001391   \n",
      "SEX_2                    -0.021880  -0.017005  -0.016733 -0.000242 -0.001391   \n",
      "EDUCATION_1              -0.003809   0.000941  -0.002525  0.049811  0.044400   \n",
      "EDUCATION_2               0.021648   0.019690   0.024555 -0.032998 -0.033132   \n",
      "EDUCATION_3              -0.031276  -0.031708  -0.030981 -0.021310 -0.016674   \n",
      "EDUCATION_4               0.020954   0.011811   0.003417  0.004445  0.012004   \n",
      "MARRIAGE_1                0.023149   0.025019   0.021169  0.006964  0.011291   \n",
      "MARRIAGE_2               -0.017708  -0.019356  -0.016064 -0.009039 -0.012598   \n",
      "MARRIAGE_3               -0.024171  -0.025149  -0.022684  0.009356  0.005953   \n",
      "PAY_0_-2                 -0.166353  -0.159411  -0.154229  0.015647  0.031587   \n",
      "PAY_0_-1                 -0.225405  -0.223222  -0.221415  0.050562  0.043439   \n",
      "PAY_0_0                   0.296272   0.282273   0.277137  0.024856 -0.002861   \n",
      "PAY_0_1                  -0.101359  -0.094428  -0.093535 -0.063958 -0.035066   \n",
      "PAY_0_2                   0.074499   0.080108   0.081076 -0.039540 -0.035268   \n",
      "PAY_0_3                  -0.016820  -0.015430  -0.014012 -0.029364 -0.019994   \n",
      "PAY_0_4                   0.030933   0.032707   0.027544 -0.021711 -0.016245   \n",
      "...                            ...        ...        ...       ...       ...   \n",
      "PAY_2_4                   0.030933   0.032707   0.027544 -0.021711 -0.016245   \n",
      "PAY_3_-2                 -0.166353  -0.159411  -0.154229  0.015647  0.031587   \n",
      "PAY_3_-1                 -0.225405  -0.223222  -0.221415  0.050562  0.043439   \n",
      "PAY_3_0                   0.296272   0.282273   0.277137  0.024856 -0.002861   \n",
      "PAY_3_1                  -0.101359  -0.094428  -0.093535 -0.063958 -0.035066   \n",
      "PAY_3_2                   0.074499   0.080108   0.081076 -0.039540 -0.035268   \n",
      "PAY_3_3                  -0.016820  -0.015430  -0.014012 -0.029364 -0.019994   \n",
      "PAY_3_4                   0.030933   0.032707   0.027544 -0.021711 -0.016245   \n",
      "PAY_4_-2                 -0.166353  -0.159411  -0.154229  0.015647  0.031587   \n",
      "PAY_4_-1                 -0.225405  -0.223222  -0.221415  0.050562  0.043439   \n",
      "PAY_4_0                   0.296272   0.282273   0.277137  0.024856 -0.002861   \n",
      "PAY_4_1                  -0.101359  -0.094428  -0.093535 -0.063958 -0.035066   \n",
      "PAY_4_2                   0.074499   0.080108   0.081076 -0.039540 -0.035268   \n",
      "PAY_4_3                  -0.016820  -0.015430  -0.014012 -0.029364 -0.019994   \n",
      "PAY_4_4                   0.030933   0.032707   0.027544 -0.021711 -0.016245   \n",
      "PAY_5_-2                 -0.166353  -0.159411  -0.154229  0.015647  0.031587   \n",
      "PAY_5_-1                 -0.225405  -0.223222  -0.221415  0.050562  0.043439   \n",
      "PAY_5_0                   0.296272   0.282273   0.277137  0.024856 -0.002861   \n",
      "PAY_5_1                  -0.101359  -0.094428  -0.093535 -0.063958 -0.035066   \n",
      "PAY_5_2                   0.074499   0.080108   0.081076 -0.039540 -0.035268   \n",
      "PAY_5_3                  -0.016820  -0.015430  -0.014012 -0.029364 -0.019994   \n",
      "PAY_5_4                   0.030933   0.032707   0.027544 -0.021711 -0.016245   \n",
      "PAY_6_-2                 -0.166353  -0.159411  -0.154229  0.015647  0.031587   \n",
      "PAY_6_-1                 -0.225405  -0.223222  -0.221415  0.050562  0.043439   \n",
      "PAY_6_0                   0.296272   0.282273   0.277137  0.024856 -0.002861   \n",
      "PAY_6_1                  -0.101359  -0.094428  -0.093535 -0.063958 -0.035066   \n",
      "PAY_6_2                   0.074499   0.080108   0.081076 -0.039540 -0.035268   \n",
      "PAY_6_3                  -0.016820  -0.015430  -0.014012 -0.029364 -0.019994   \n",
      "PAY_6_4                   0.030933   0.032707   0.027544 -0.021711 -0.016245   \n",
      "DefaultPaymentNextMonth  -0.010156  -0.006760  -0.005372 -0.072929 -0.058579   \n",
      "\n",
      "                                  ...              PAY_5_3   PAY_5_4  \\\n",
      "LIMIT_BAL                         ...            -0.068988 -0.042767   \n",
      "AGE                               ...            -0.001836  0.002461   \n",
      "BILL_AMT1                         ...            -0.018960  0.030317   \n",
      "BILL_AMT2                         ...            -0.017684  0.031178   \n",
      "BILL_AMT3                         ...            -0.017061  0.029870   \n",
      "BILL_AMT4                         ...            -0.016820  0.030933   \n",
      "BILL_AMT5                         ...            -0.015430  0.032707   \n",
      "BILL_AMT6                         ...            -0.014012  0.027544   \n",
      "PAY_AMT1                          ...            -0.029364 -0.021711   \n",
      "PAY_AMT2                          ...            -0.019994 -0.016245   \n",
      "PAY_AMT3                          ...            -0.020430 -0.016132   \n",
      "PAY_AMT4                          ...            -0.018017 -0.015311   \n",
      "PAY_AMT5                          ...            -0.023042  0.007525   \n",
      "PAY_AMT6                          ...            -0.017825  0.007452   \n",
      "SEX_1                             ...             0.020768  0.027029   \n",
      "SEX_2                             ...            -0.020768 -0.027029   \n",
      "EDUCATION_1                       ...            -0.029524 -0.029322   \n",
      "EDUCATION_2                       ...             0.024903  0.022523   \n",
      "EDUCATION_3                       ...             0.007187  0.009071   \n",
      "EDUCATION_4                       ...            -0.007892 -0.004718   \n",
      "MARRIAGE_1                        ...            -0.004291 -0.002150   \n",
      "MARRIAGE_2                        ...             0.002368  0.002900   \n",
      "MARRIAGE_3                        ...             0.008577 -0.003377   \n",
      "PAY_0_-2                          ...            -0.033149 -0.021869   \n",
      "PAY_0_-1                          ...            -0.050372 -0.033231   \n",
      "PAY_0_0                           ...            -0.102352 -0.067524   \n",
      "PAY_0_1                           ...            -0.038997 -0.025727   \n",
      "PAY_0_2                           ...            -0.032537 -0.021465   \n",
      "PAY_0_3                           ...             1.000000 -0.007158   \n",
      "PAY_0_4                           ...            -0.007158  1.000000   \n",
      "...                               ...                  ...       ...   \n",
      "PAY_2_4                           ...            -0.007158  1.000000   \n",
      "PAY_3_-2                          ...            -0.033149 -0.021869   \n",
      "PAY_3_-1                          ...            -0.050372 -0.033231   \n",
      "PAY_3_0                           ...            -0.102352 -0.067524   \n",
      "PAY_3_1                           ...            -0.038997 -0.025727   \n",
      "PAY_3_2                           ...            -0.032537 -0.021465   \n",
      "PAY_3_3                           ...             1.000000 -0.007158   \n",
      "PAY_3_4                           ...            -0.007158  1.000000   \n",
      "PAY_4_-2                          ...            -0.033149 -0.021869   \n",
      "PAY_4_-1                          ...            -0.050372 -0.033231   \n",
      "PAY_4_0                           ...            -0.102352 -0.067524   \n",
      "PAY_4_1                           ...            -0.038997 -0.025727   \n",
      "PAY_4_2                           ...            -0.032537 -0.021465   \n",
      "PAY_4_3                           ...             1.000000 -0.007158   \n",
      "PAY_4_4                           ...            -0.007158  1.000000   \n",
      "PAY_5_-2                          ...            -0.033149 -0.021869   \n",
      "PAY_5_-1                          ...            -0.050372 -0.033231   \n",
      "PAY_5_0                           ...            -0.102352 -0.067524   \n",
      "PAY_5_1                           ...            -0.038997 -0.025727   \n",
      "PAY_5_2                           ...            -0.032537 -0.021465   \n",
      "PAY_5_3                           ...             1.000000 -0.007158   \n",
      "PAY_5_4                           ...            -0.007158  1.000000   \n",
      "PAY_6_-2                          ...            -0.033149 -0.021869   \n",
      "PAY_6_-1                          ...            -0.050372 -0.033231   \n",
      "PAY_6_0                           ...            -0.102352 -0.067524   \n",
      "PAY_6_1                           ...            -0.038997 -0.025727   \n",
      "PAY_6_2                           ...            -0.032537 -0.021465   \n",
      "PAY_6_3                           ...             1.000000 -0.007158   \n",
      "PAY_6_4                           ...            -0.007158  1.000000   \n",
      "DefaultPaymentNextMonth           ...             0.134656  0.067882   \n",
      "\n",
      "                         PAY_6_-2  PAY_6_-1   PAY_6_0   PAY_6_1   PAY_6_2  \\\n",
      "LIMIT_BAL                0.203359  0.146423 -0.100115 -0.053926 -0.134798   \n",
      "AGE                      0.051225  0.034761 -0.054286 -0.001878 -0.002285   \n",
      "BILL_AMT1               -0.183383 -0.267546  0.362898 -0.122382  0.057969   \n",
      "BILL_AMT2               -0.181402 -0.259147  0.345969 -0.116521  0.066698   \n",
      "BILL_AMT3               -0.168510 -0.241182  0.317887 -0.106641  0.066884   \n",
      "BILL_AMT4               -0.166353 -0.225405  0.296272 -0.101359  0.074499   \n",
      "BILL_AMT5               -0.159411 -0.223222  0.282273 -0.094428  0.080108   \n",
      "BILL_AMT6               -0.154229 -0.221415  0.277137 -0.093535  0.081076   \n",
      "PAY_AMT1                 0.015647  0.050562  0.024856 -0.063958 -0.039540   \n",
      "PAY_AMT2                 0.031587  0.043439 -0.002861 -0.035066 -0.035268   \n",
      "PAY_AMT3                 0.017296  0.055294  0.005457 -0.051548 -0.032547   \n",
      "PAY_AMT4                 0.026576  0.024234  0.021671 -0.043523 -0.038006   \n",
      "PAY_AMT5                 0.026546  0.023330  0.023585 -0.055815 -0.029580   \n",
      "PAY_AMT6                 0.025055  0.036714  0.010566 -0.053189 -0.028531   \n",
      "SEX_1                   -0.052425 -0.021070  0.026067  0.006344  0.015123   \n",
      "SEX_2                    0.052425  0.021070 -0.026067 -0.006344 -0.015123   \n",
      "EDUCATION_1              0.095236  0.136831 -0.124424  0.013756 -0.064709   \n",
      "EDUCATION_2             -0.072658 -0.098719  0.099423 -0.009919  0.032097   \n",
      "EDUCATION_3             -0.034338 -0.037204  0.018841  0.002615  0.045206   \n",
      "EDUCATION_4              0.027887 -0.019012  0.023192 -0.020916 -0.014749   \n",
      "MARRIAGE_1               0.029145  0.029061 -0.052854  0.008124  0.015926   \n",
      "MARRIAGE_2              -0.025928 -0.026541  0.050105 -0.009462 -0.015774   \n",
      "MARRIAGE_3              -0.014157 -0.011036  0.011855  0.006064 -0.000542   \n",
      "PAY_0_-2                 1.000000 -0.153900 -0.312715 -0.119147 -0.099410   \n",
      "PAY_0_-1                -0.153900  1.000000 -0.475182 -0.181048 -0.151058   \n",
      "PAY_0_0                 -0.312715 -0.475182  1.000000 -0.367877 -0.306939   \n",
      "PAY_0_1                 -0.119147 -0.181048 -0.367877  1.000000 -0.116946   \n",
      "PAY_0_2                 -0.099410 -0.151058 -0.306939 -0.116946  1.000000   \n",
      "PAY_0_3                 -0.033149 -0.050372 -0.102352 -0.038997 -0.032537   \n",
      "PAY_0_4                 -0.021869 -0.033231 -0.067524 -0.025727 -0.021465   \n",
      "...                           ...       ...       ...       ...       ...   \n",
      "PAY_2_4                 -0.021869 -0.033231 -0.067524 -0.025727 -0.021465   \n",
      "PAY_3_-2                 1.000000 -0.153900 -0.312715 -0.119147 -0.099410   \n",
      "PAY_3_-1                -0.153900  1.000000 -0.475182 -0.181048 -0.151058   \n",
      "PAY_3_0                 -0.312715 -0.475182  1.000000 -0.367877 -0.306939   \n",
      "PAY_3_1                 -0.119147 -0.181048 -0.367877  1.000000 -0.116946   \n",
      "PAY_3_2                 -0.099410 -0.151058 -0.306939 -0.116946  1.000000   \n",
      "PAY_3_3                 -0.033149 -0.050372 -0.102352 -0.038997 -0.032537   \n",
      "PAY_3_4                 -0.021869 -0.033231 -0.067524 -0.025727 -0.021465   \n",
      "PAY_4_-2                 1.000000 -0.153900 -0.312715 -0.119147 -0.099410   \n",
      "PAY_4_-1                -0.153900  1.000000 -0.475182 -0.181048 -0.151058   \n",
      "PAY_4_0                 -0.312715 -0.475182  1.000000 -0.367877 -0.306939   \n",
      "PAY_4_1                 -0.119147 -0.181048 -0.367877  1.000000 -0.116946   \n",
      "PAY_4_2                 -0.099410 -0.151058 -0.306939 -0.116946  1.000000   \n",
      "PAY_4_3                 -0.033149 -0.050372 -0.102352 -0.038997 -0.032537   \n",
      "PAY_4_4                 -0.021869 -0.033231 -0.067524 -0.025727 -0.021465   \n",
      "PAY_5_-2                 1.000000 -0.153900 -0.312715 -0.119147 -0.099410   \n",
      "PAY_5_-1                -0.153900  1.000000 -0.475182 -0.181048 -0.151058   \n",
      "PAY_5_0                 -0.312715 -0.475182  1.000000 -0.367877 -0.306939   \n",
      "PAY_5_1                 -0.119147 -0.181048 -0.367877  1.000000 -0.116946   \n",
      "PAY_5_2                 -0.099410 -0.151058 -0.306939 -0.116946  1.000000   \n",
      "PAY_5_3                 -0.033149 -0.050372 -0.102352 -0.038997 -0.032537   \n",
      "PAY_5_4                 -0.021869 -0.033231 -0.067524 -0.025727 -0.021465   \n",
      "PAY_6_-2                 1.000000 -0.153900 -0.312715 -0.119147 -0.099410   \n",
      "PAY_6_-1                -0.153900  1.000000 -0.475182 -0.181048 -0.151058   \n",
      "PAY_6_0                 -0.312715 -0.475182  1.000000 -0.367877 -0.306939   \n",
      "PAY_6_1                 -0.119147 -0.181048 -0.367877  1.000000 -0.116946   \n",
      "PAY_6_2                 -0.099410 -0.151058 -0.306939 -0.116946  1.000000   \n",
      "PAY_6_3                 -0.033149 -0.050372 -0.102352 -0.038997 -0.032537   \n",
      "PAY_6_4                 -0.021869 -0.033231 -0.067524 -0.025727 -0.021465   \n",
      "DefaultPaymentNextMonth -0.068169 -0.062240 -0.220378  0.106690  0.353881   \n",
      "\n",
      "                          PAY_6_3   PAY_6_4  DefaultPaymentNextMonth  \n",
      "LIMIT_BAL               -0.068988 -0.042767                -0.153520  \n",
      "AGE                     -0.001836  0.002461                 0.013890  \n",
      "BILL_AMT1               -0.018960  0.030317                -0.019644  \n",
      "BILL_AMT2               -0.017684  0.031178                -0.014193  \n",
      "BILL_AMT3               -0.017061  0.029870                -0.014076  \n",
      "BILL_AMT4               -0.016820  0.030933                -0.010156  \n",
      "BILL_AMT5               -0.015430  0.032707                -0.006760  \n",
      "BILL_AMT6               -0.014012  0.027544                -0.005372  \n",
      "PAY_AMT1                -0.029364 -0.021711                -0.072929  \n",
      "PAY_AMT2                -0.019994 -0.016245                -0.058579  \n",
      "PAY_AMT3                -0.020430 -0.016132                -0.056250  \n",
      "PAY_AMT4                -0.018017 -0.015311                -0.056827  \n",
      "PAY_AMT5                -0.023042  0.007525                -0.055124  \n",
      "PAY_AMT6                -0.017825  0.007452                -0.053183  \n",
      "SEX_1                    0.020768  0.027029                 0.039961  \n",
      "SEX_2                   -0.020768 -0.027029                -0.039961  \n",
      "EDUCATION_1             -0.029524 -0.029322                -0.051328  \n",
      "EDUCATION_2              0.024903  0.022523                 0.036467  \n",
      "EDUCATION_3              0.007187  0.009071                 0.032403  \n",
      "EDUCATION_4             -0.007892 -0.004718                -0.045703  \n",
      "MARRIAGE_1              -0.004291 -0.002150                 0.029775  \n",
      "MARRIAGE_2               0.002368  0.002900                -0.030619  \n",
      "MARRIAGE_3               0.008577 -0.003377                 0.004043  \n",
      "PAY_0_-2                -0.033149 -0.021869                -0.068169  \n",
      "PAY_0_-1                -0.050372 -0.033231                -0.062240  \n",
      "PAY_0_0                 -0.102352 -0.067524                -0.220378  \n",
      "PAY_0_1                 -0.038997 -0.025727                 0.106690  \n",
      "PAY_0_2                 -0.032537 -0.021465                 0.353881  \n",
      "PAY_0_3                  1.000000 -0.007158                 0.134656  \n",
      "PAY_0_4                 -0.007158  1.000000                 0.067882  \n",
      "...                           ...       ...                      ...  \n",
      "PAY_2_4                 -0.007158  1.000000                 0.067882  \n",
      "PAY_3_-2                -0.033149 -0.021869                -0.068169  \n",
      "PAY_3_-1                -0.050372 -0.033231                -0.062240  \n",
      "PAY_3_0                 -0.102352 -0.067524                -0.220378  \n",
      "PAY_3_1                 -0.038997 -0.025727                 0.106690  \n",
      "PAY_3_2                 -0.032537 -0.021465                 0.353881  \n",
      "PAY_3_3                  1.000000 -0.007158                 0.134656  \n",
      "PAY_3_4                 -0.007158  1.000000                 0.067882  \n",
      "PAY_4_-2                -0.033149 -0.021869                -0.068169  \n",
      "PAY_4_-1                -0.050372 -0.033231                -0.062240  \n",
      "PAY_4_0                 -0.102352 -0.067524                -0.220378  \n",
      "PAY_4_1                 -0.038997 -0.025727                 0.106690  \n",
      "PAY_4_2                 -0.032537 -0.021465                 0.353881  \n",
      "PAY_4_3                  1.000000 -0.007158                 0.134656  \n",
      "PAY_4_4                 -0.007158  1.000000                 0.067882  \n",
      "PAY_5_-2                -0.033149 -0.021869                -0.068169  \n",
      "PAY_5_-1                -0.050372 -0.033231                -0.062240  \n",
      "PAY_5_0                 -0.102352 -0.067524                -0.220378  \n",
      "PAY_5_1                 -0.038997 -0.025727                 0.106690  \n",
      "PAY_5_2                 -0.032537 -0.021465                 0.353881  \n",
      "PAY_5_3                  1.000000 -0.007158                 0.134656  \n",
      "PAY_5_4                 -0.007158  1.000000                 0.067882  \n",
      "PAY_6_-2                -0.033149 -0.021869                -0.068169  \n",
      "PAY_6_-1                -0.050372 -0.033231                -0.062240  \n",
      "PAY_6_0                 -0.102352 -0.067524                -0.220378  \n",
      "PAY_6_1                 -0.038997 -0.025727                 0.106690  \n",
      "PAY_6_2                 -0.032537 -0.021465                 0.353881  \n",
      "PAY_6_3                  1.000000 -0.007158                 0.134656  \n",
      "PAY_6_4                 -0.007158  1.000000                 0.067882  \n",
      "DefaultPaymentNextMonth  0.134656  0.067882                 1.000000  \n",
      "\n",
      "[66 rows x 66 columns]\n"
     ]
    }
   ],
   "source": [
    "#Matriz de correlación\n",
    "corrMat = newDataDummy.corr()\n",
    "print(corrMat)"
   ]
  },
  {
   "cell_type": "code",
   "execution_count": 100,
   "metadata": {},
   "outputs": [
    {
     "ename": "ImportError",
     "evalue": "cannot import name 'KBinsDiscretizer'",
     "output_type": "error",
     "traceback": [
      "\u001b[1;31m---------------------------------------------------------------------------\u001b[0m",
      "\u001b[1;31mImportError\u001b[0m                               Traceback (most recent call last)",
      "\u001b[1;32m<ipython-input-100-dc04fa2b181e>\u001b[0m in \u001b[0;36m<module>\u001b[1;34m()\u001b[0m\n\u001b[0;32m      1\u001b[0m \u001b[1;31m#from sklearn import preprocessing\u001b[0m\u001b[1;33m\u001b[0m\u001b[1;33m\u001b[0m\u001b[0m\n\u001b[1;32m----> 2\u001b[1;33m \u001b[1;32mfrom\u001b[0m \u001b[0msklearn\u001b[0m\u001b[1;33m.\u001b[0m\u001b[0mpreprocessing\u001b[0m \u001b[1;32mimport\u001b[0m  \u001b[0mKBinsDiscretizer\u001b[0m\u001b[1;33m\u001b[0m\u001b[0m\n\u001b[0m\u001b[0;32m      3\u001b[0m \u001b[1;31m#temp = preprocessing.KBinsDiscretizer(n_bins=[4], encode='ordinal').fit(rawData[\"EDUCATION\"])\u001b[0m\u001b[1;33m\u001b[0m\u001b[1;33m\u001b[0m\u001b[0m\n",
      "\u001b[1;31mImportError\u001b[0m: cannot import name 'KBinsDiscretizer'"
     ]
    }
   ],
   "source": [
    "# No puedo utilizar KBinsDiscretizer\n",
    "from sklearn import preprocessing\n",
    "# intente de dos formas\n",
    "from sklearn.preprocessing import  KBinsDiscretizer\n",
    "#temp = preprocessing.KBinsDiscretizer(n_bins=[4], encode='ordinal').fit(rawData[\"EDUCATION\"])"
   ]
  },
  {
   "cell_type": "code",
   "execution_count": 29,
   "metadata": {},
   "outputs": [
    {
     "name": "stdout",
     "output_type": "stream",
     "text": [
      "Summary of feature sample\n"
     ]
    },
    {
     "data": {
      "text/html": [
       "<div>\n",
       "<style scoped>\n",
       "    .dataframe tbody tr th:only-of-type {\n",
       "        vertical-align: middle;\n",
       "    }\n",
       "\n",
       "    .dataframe tbody tr th {\n",
       "        vertical-align: top;\n",
       "    }\n",
       "\n",
       "    .dataframe thead th {\n",
       "        text-align: right;\n",
       "    }\n",
       "</style>\n",
       "<table border=\"1\" class=\"dataframe\">\n",
       "  <thead>\n",
       "    <tr style=\"text-align: right;\">\n",
       "      <th></th>\n",
       "      <th>LIMIT_BAL</th>\n",
       "      <th>AGE</th>\n",
       "      <th>BILL_AMT1</th>\n",
       "      <th>BILL_AMT2</th>\n",
       "      <th>BILL_AMT3</th>\n",
       "      <th>BILL_AMT4</th>\n",
       "      <th>BILL_AMT5</th>\n",
       "      <th>BILL_AMT6</th>\n",
       "      <th>PAY_AMT1</th>\n",
       "      <th>PAY_AMT2</th>\n",
       "      <th>...</th>\n",
       "      <th>PAY_5_2</th>\n",
       "      <th>PAY_5_3</th>\n",
       "      <th>PAY_5_4</th>\n",
       "      <th>PAY_6_-2</th>\n",
       "      <th>PAY_6_-1</th>\n",
       "      <th>PAY_6_0</th>\n",
       "      <th>PAY_6_1</th>\n",
       "      <th>PAY_6_2</th>\n",
       "      <th>PAY_6_3</th>\n",
       "      <th>PAY_6_4</th>\n",
       "    </tr>\n",
       "  </thead>\n",
       "  <tbody>\n",
       "    <tr>\n",
       "      <th>0</th>\n",
       "      <td>20000</td>\n",
       "      <td>24</td>\n",
       "      <td>3913</td>\n",
       "      <td>3102</td>\n",
       "      <td>689</td>\n",
       "      <td>0</td>\n",
       "      <td>0</td>\n",
       "      <td>0</td>\n",
       "      <td>0</td>\n",
       "      <td>689</td>\n",
       "      <td>...</td>\n",
       "      <td>1</td>\n",
       "      <td>0</td>\n",
       "      <td>0</td>\n",
       "      <td>0</td>\n",
       "      <td>0</td>\n",
       "      <td>0</td>\n",
       "      <td>0</td>\n",
       "      <td>1</td>\n",
       "      <td>0</td>\n",
       "      <td>0</td>\n",
       "    </tr>\n",
       "    <tr>\n",
       "      <th>1</th>\n",
       "      <td>120000</td>\n",
       "      <td>26</td>\n",
       "      <td>2682</td>\n",
       "      <td>1725</td>\n",
       "      <td>2682</td>\n",
       "      <td>3272</td>\n",
       "      <td>3455</td>\n",
       "      <td>3261</td>\n",
       "      <td>0</td>\n",
       "      <td>1000</td>\n",
       "      <td>...</td>\n",
       "      <td>0</td>\n",
       "      <td>0</td>\n",
       "      <td>0</td>\n",
       "      <td>0</td>\n",
       "      <td>1</td>\n",
       "      <td>0</td>\n",
       "      <td>0</td>\n",
       "      <td>0</td>\n",
       "      <td>0</td>\n",
       "      <td>0</td>\n",
       "    </tr>\n",
       "    <tr>\n",
       "      <th>2</th>\n",
       "      <td>90000</td>\n",
       "      <td>34</td>\n",
       "      <td>29239</td>\n",
       "      <td>14027</td>\n",
       "      <td>13559</td>\n",
       "      <td>14331</td>\n",
       "      <td>14948</td>\n",
       "      <td>15549</td>\n",
       "      <td>1518</td>\n",
       "      <td>1500</td>\n",
       "      <td>...</td>\n",
       "      <td>0</td>\n",
       "      <td>0</td>\n",
       "      <td>0</td>\n",
       "      <td>0</td>\n",
       "      <td>0</td>\n",
       "      <td>1</td>\n",
       "      <td>0</td>\n",
       "      <td>0</td>\n",
       "      <td>0</td>\n",
       "      <td>0</td>\n",
       "    </tr>\n",
       "    <tr>\n",
       "      <th>3</th>\n",
       "      <td>50000</td>\n",
       "      <td>37</td>\n",
       "      <td>46990</td>\n",
       "      <td>48233</td>\n",
       "      <td>49291</td>\n",
       "      <td>28314</td>\n",
       "      <td>28959</td>\n",
       "      <td>29547</td>\n",
       "      <td>2000</td>\n",
       "      <td>2019</td>\n",
       "      <td>...</td>\n",
       "      <td>0</td>\n",
       "      <td>0</td>\n",
       "      <td>0</td>\n",
       "      <td>0</td>\n",
       "      <td>0</td>\n",
       "      <td>1</td>\n",
       "      <td>0</td>\n",
       "      <td>0</td>\n",
       "      <td>0</td>\n",
       "      <td>0</td>\n",
       "    </tr>\n",
       "    <tr>\n",
       "      <th>4</th>\n",
       "      <td>50000</td>\n",
       "      <td>57</td>\n",
       "      <td>8617</td>\n",
       "      <td>5670</td>\n",
       "      <td>35835</td>\n",
       "      <td>20940</td>\n",
       "      <td>19146</td>\n",
       "      <td>19131</td>\n",
       "      <td>2000</td>\n",
       "      <td>36681</td>\n",
       "      <td>...</td>\n",
       "      <td>0</td>\n",
       "      <td>0</td>\n",
       "      <td>0</td>\n",
       "      <td>0</td>\n",
       "      <td>1</td>\n",
       "      <td>0</td>\n",
       "      <td>0</td>\n",
       "      <td>0</td>\n",
       "      <td>0</td>\n",
       "      <td>0</td>\n",
       "    </tr>\n",
       "  </tbody>\n",
       "</table>\n",
       "<p>5 rows × 65 columns</p>\n",
       "</div>"
      ],
      "text/plain": [
       "   LIMIT_BAL  AGE  BILL_AMT1  BILL_AMT2  BILL_AMT3  BILL_AMT4  BILL_AMT5  \\\n",
       "0      20000   24       3913       3102        689          0          0   \n",
       "1     120000   26       2682       1725       2682       3272       3455   \n",
       "2      90000   34      29239      14027      13559      14331      14948   \n",
       "3      50000   37      46990      48233      49291      28314      28959   \n",
       "4      50000   57       8617       5670      35835      20940      19146   \n",
       "\n",
       "   BILL_AMT6  PAY_AMT1  PAY_AMT2   ...     PAY_5_2  PAY_5_3  PAY_5_4  \\\n",
       "0          0         0       689   ...           1        0        0   \n",
       "1       3261         0      1000   ...           0        0        0   \n",
       "2      15549      1518      1500   ...           0        0        0   \n",
       "3      29547      2000      2019   ...           0        0        0   \n",
       "4      19131      2000     36681   ...           0        0        0   \n",
       "\n",
       "   PAY_6_-2  PAY_6_-1  PAY_6_0  PAY_6_1  PAY_6_2  PAY_6_3  PAY_6_4  \n",
       "0         0         0        0        0        1        0        0  \n",
       "1         0         1        0        0        0        0        0  \n",
       "2         0         0        1        0        0        0        0  \n",
       "3         0         0        1        0        0        0        0  \n",
       "4         0         1        0        0        0        0        0  \n",
       "\n",
       "[5 rows x 65 columns]"
      ]
     },
     "execution_count": 29,
     "metadata": {},
     "output_type": "execute_result"
    }
   ],
   "source": [
    "#features\n",
    "features = newDataDummy.iloc[:,0:65]\n",
    "print('Summary of feature sample')\n",
    "features.head()"
   ]
  },
  {
   "cell_type": "code",
   "execution_count": 30,
   "metadata": {},
   "outputs": [],
   "source": [
    "#dependent variable\n",
    "depVar = newDataDummy['DefaultPaymentNextMonth']"
   ]
  },
  {
   "cell_type": "code",
   "execution_count": 19,
   "metadata": {},
   "outputs": [
    {
     "name": "stdout",
     "output_type": "stream",
     "text": [
      "<class 'pandas.core.frame.DataFrame'>\n",
      "RangeIndex: 1000 entries, 0 to 999\n",
      "Data columns (total 65 columns):\n",
      "LIMIT_BAL      1000 non-null int64\n",
      "AGE            1000 non-null int64\n",
      "BILL_AMT1      1000 non-null int64\n",
      "BILL_AMT2      1000 non-null int64\n",
      "BILL_AMT3      1000 non-null int64\n",
      "BILL_AMT4      1000 non-null int64\n",
      "BILL_AMT5      1000 non-null int64\n",
      "BILL_AMT6      1000 non-null int64\n",
      "PAY_AMT1       1000 non-null int64\n",
      "PAY_AMT2       1000 non-null int64\n",
      "PAY_AMT3       1000 non-null int64\n",
      "PAY_AMT4       1000 non-null int64\n",
      "PAY_AMT5       1000 non-null int64\n",
      "PAY_AMT6       1000 non-null int64\n",
      "SEX_1          1000 non-null uint8\n",
      "SEX_2          1000 non-null uint8\n",
      "EDUCATION_1    1000 non-null uint8\n",
      "EDUCATION_2    1000 non-null uint8\n",
      "EDUCATION_3    1000 non-null uint8\n",
      "EDUCATION_4    1000 non-null uint8\n",
      "MARRIAGE_1     1000 non-null uint8\n",
      "MARRIAGE_2     1000 non-null uint8\n",
      "MARRIAGE_3     1000 non-null uint8\n",
      "PAY_0_-2       1000 non-null uint8\n",
      "PAY_0_-1       1000 non-null uint8\n",
      "PAY_0_0        1000 non-null uint8\n",
      "PAY_0_1        1000 non-null uint8\n",
      "PAY_0_2        1000 non-null uint8\n",
      "PAY_0_3        1000 non-null uint8\n",
      "PAY_0_4        1000 non-null uint8\n",
      "PAY_2_-2       1000 non-null uint8\n",
      "PAY_2_-1       1000 non-null uint8\n",
      "PAY_2_0        1000 non-null uint8\n",
      "PAY_2_1        1000 non-null uint8\n",
      "PAY_2_2        1000 non-null uint8\n",
      "PAY_2_3        1000 non-null uint8\n",
      "PAY_2_4        1000 non-null uint8\n",
      "PAY_3_-2       1000 non-null uint8\n",
      "PAY_3_-1       1000 non-null uint8\n",
      "PAY_3_0        1000 non-null uint8\n",
      "PAY_3_1        1000 non-null uint8\n",
      "PAY_3_2        1000 non-null uint8\n",
      "PAY_3_3        1000 non-null uint8\n",
      "PAY_3_4        1000 non-null uint8\n",
      "PAY_4_-2       1000 non-null uint8\n",
      "PAY_4_-1       1000 non-null uint8\n",
      "PAY_4_0        1000 non-null uint8\n",
      "PAY_4_1        1000 non-null uint8\n",
      "PAY_4_2        1000 non-null uint8\n",
      "PAY_4_3        1000 non-null uint8\n",
      "PAY_4_4        1000 non-null uint8\n",
      "PAY_5_-2       1000 non-null uint8\n",
      "PAY_5_-1       1000 non-null uint8\n",
      "PAY_5_0        1000 non-null uint8\n",
      "PAY_5_1        1000 non-null uint8\n",
      "PAY_5_2        1000 non-null uint8\n",
      "PAY_5_3        1000 non-null uint8\n",
      "PAY_5_4        1000 non-null uint8\n",
      "PAY_6_-2       1000 non-null uint8\n",
      "PAY_6_-1       1000 non-null uint8\n",
      "PAY_6_0        1000 non-null uint8\n",
      "PAY_6_1        1000 non-null uint8\n",
      "PAY_6_2        1000 non-null uint8\n",
      "PAY_6_3        1000 non-null uint8\n",
      "PAY_6_4        1000 non-null uint8\n",
      "dtypes: int64(14), uint8(51)\n",
      "memory usage: 159.3 KB\n"
     ]
    }
   ],
   "source": [
    "#Training Set (Feature Space: X Training)\n",
    "X_train = (features[: 1000])\n",
    "X_train.head()\n",
    "X_train.info()"
   ]
  },
  {
   "cell_type": "markdown",
   "metadata": {},
   "source": [
    "### Normalización"
   ]
  },
  {
   "cell_type": "code",
   "execution_count": 31,
   "metadata": {},
   "outputs": [
    {
     "name": "stdout",
     "output_type": "stream",
     "text": [
      "[[-1.13672015 -1.24601985 -0.64250107 ... -0.10416231 -0.06871822\n",
      "   1.87637834]\n",
      " [-0.3659805  -1.02904717 -0.65921875 ... -0.10416231 -0.06871822\n",
      "   1.87637834]\n",
      " [-0.59720239 -0.16115646 -0.29855966 ... -0.10416231 -0.06871822\n",
      "  -0.53294156]\n",
      " ...\n",
      " [-1.05964618  0.16430256 -0.64722711 ... -0.10416231 14.5521805\n",
      "   1.87637834]\n",
      " [-0.67427636  0.59824792 -0.71798186 ... -0.10416231 -0.06871822\n",
      "   1.87637834]\n",
      " [-0.90549825  1.14067961 -0.04473888 ... -0.10416231 -0.06871822\n",
      "   1.87637834]]\n"
     ]
    }
   ],
   "source": [
    "from sklearn import preprocessing\n",
    "#Normaliza el conjunto de datos de las variables independientes\n",
    "newDataDummy = preprocessing.scale(newDataDummy)\n",
    "print(newDataDummy)"
   ]
  },
  {
   "cell_type": "markdown",
   "metadata": {},
   "source": [
    "#### RFE with Cross Validation"
   ]
  },
  {
   "cell_type": "code",
   "execution_count": 35,
   "metadata": {},
   "outputs": [],
   "source": [
    "from sklearn.ensemble import RandomForestClassifier \n",
    "from sklearn.feature_selection import RFECV\n",
    "from sklearn.model_selection import StratifiedKFold\n",
    "\n",
    "RFC = RandomForestClassifier(random_state=101)"
   ]
  },
  {
   "cell_type": "code",
   "execution_count": 36,
   "metadata": {},
   "outputs": [],
   "source": [
    "rfecv = RFECV(estimator = RFC, step = 1, cv=StratifiedKFold(10), scoring = 'accuracy')"
   ]
  },
  {
   "cell_type": "code",
   "execution_count": 37,
   "metadata": {
    "scrolled": true
   },
   "outputs": [
    {
     "data": {
      "text/plain": [
       "RFECV(cv=StratifiedKFold(n_splits=10, random_state=None, shuffle=False),\n",
       "   estimator=RandomForestClassifier(bootstrap=True, class_weight=None, criterion='gini',\n",
       "            max_depth=None, max_features='auto', max_leaf_nodes=None,\n",
       "            min_impurity_decrease=0.0, min_impurity_split=None,\n",
       "            min_samples_leaf=1, min_samples_split=2,\n",
       "            min_weight_fraction_leaf=0.0, n_estimators=10, n_jobs=1,\n",
       "            oob_score=False, random_state=101, verbose=0, warm_start=False),\n",
       "   n_jobs=1, scoring='accuracy', step=1, verbose=0)"
      ]
     },
     "execution_count": 37,
     "metadata": {},
     "output_type": "execute_result"
    }
   ],
   "source": [
    "rfecv.fit(features,depVar)"
   ]
  },
  {
   "cell_type": "code",
   "execution_count": 38,
   "metadata": {},
   "outputs": [
    {
     "name": "stdout",
     "output_type": "stream",
     "text": [
      "Optimal number of features: 64\n"
     ]
    }
   ],
   "source": [
    "#Muestra el número de atributo necesarios para obtener la mayor precisión en el modelo.\n",
    "print('Optimal number of features: {}'.format(rfecv.n_features_))"
   ]
  },
  {
   "cell_type": "code",
   "execution_count": 39,
   "metadata": {},
   "outputs": [
    {
     "name": "stdout",
     "output_type": "stream",
     "text": [
      "[28]\n"
     ]
    }
   ],
   "source": [
    "print(np.where(rfecv.support_ == False)[0])"
   ]
  },
  {
   "cell_type": "code",
   "execution_count": 41,
   "metadata": {},
   "outputs": [],
   "source": [
    "features.drop(features.columns[np.where(rfecv.support_ == False)[0]], axis=1, inplace=True)"
   ]
  },
  {
   "cell_type": "code",
   "execution_count": 20,
   "metadata": {},
   "outputs": [
    {
     "name": "stdout",
     "output_type": "stream",
     "text": [
      "The number of observations in the Y training set are: 1000\n"
     ]
    },
    {
     "data": {
      "text/plain": [
       "0    1\n",
       "1    1\n",
       "2    0\n",
       "3    0\n",
       "4    0\n",
       "Name: DefaultPaymentNextMonth, dtype: category\n",
       "Categories (2, int64): [0, 1]"
      ]
     },
     "execution_count": 20,
     "metadata": {},
     "output_type": "execute_result"
    }
   ],
   "source": [
    "#Dependent Variable Training Set (y Training)\n",
    "y_train = depVar[: 1000]\n",
    "y_train_count = len(y_train.index)\n",
    "print('The number of observations in the Y training set are:',str(y_train_count))\n",
    "y_train.head()\n",
    "#y_train.tail()"
   ]
  },
  {
   "cell_type": "code",
   "execution_count": 21,
   "metadata": {},
   "outputs": [
    {
     "name": "stdout",
     "output_type": "stream",
     "text": [
      "The number of observations in the feature testing set is: 100\n",
      "       LIMIT_BAL  AGE  BILL_AMT1  BILL_AMT2  BILL_AMT3  BILL_AMT4  BILL_AMT5  \\\n",
      "29900      20000   29      16809          0          0          0          0   \n",
      "29901      50000   29      50845      48750     103486      50590      50248   \n",
      "29902     170000   30      10392     168088     168955     161351     126198   \n",
      "29903     260000   30      27378      17082      13333         99         99   \n",
      "29904      60000   30      54952      56021      54126      58732      59306   \n",
      "\n",
      "       BILL_AMT6  PAY_AMT1  PAY_AMT2   ...     PAY_5_2  PAY_5_3  PAY_5_4  \\\n",
      "29900          0         0         0   ...           0        0        0   \n",
      "29901      49387         0      6556   ...           0        0        0   \n",
      "29902     124746    168096      6409   ...           0        0        0   \n",
      "29903     172104     10018     13333   ...           0        0        0   \n",
      "29904      59728      2600      4553   ...           0        0        0   \n",
      "\n",
      "       PAY_6_-2  PAY_6_-1  PAY_6_0  PAY_6_1  PAY_6_2  PAY_6_3  PAY_6_4  \n",
      "29900         0         0        1        0        0        0        0  \n",
      "29901         0         0        0        1        0        0        0  \n",
      "29902         0         0        1        0        0        0        0  \n",
      "29903         0         1        0        0        0        0        0  \n",
      "29904         0         0        1        0        0        0        0  \n",
      "\n",
      "[5 rows x 65 columns]\n"
     ]
    }
   ],
   "source": [
    "#Testing Set (X Testing)\n",
    "X_test = features[-100:]\n",
    "X_test_count = len(X_test.index)\n",
    "print('The number of observations in the feature testing set is:',str(X_test_count))\n",
    "print(X_test.head())"
   ]
  },
  {
   "cell_type": "code",
   "execution_count": 22,
   "metadata": {},
   "outputs": [
    {
     "name": "stdout",
     "output_type": "stream",
     "text": [
      "The number of observations in the Y training set are: 100\n"
     ]
    },
    {
     "data": {
      "text/plain": [
       "29900    1\n",
       "29901    0\n",
       "29902    0\n",
       "29903    0\n",
       "29904    1\n",
       "Name: DefaultPaymentNextMonth, dtype: category\n",
       "Categories (2, int64): [0, 1]"
      ]
     },
     "execution_count": 22,
     "metadata": {},
     "output_type": "execute_result"
    }
   ],
   "source": [
    "#Ground Truth (y_test) \n",
    "y_test = depVar[-100:]\n",
    "y_test_count = len(y_test.index)\n",
    "print('The number of observations in the Y training set are:',str(y_test_count))\n",
    "y_test.head()"
   ]
  },
  {
   "cell_type": "code",
   "execution_count": 23,
   "metadata": {},
   "outputs": [],
   "source": [
    "from sklearn.cross_validation import train_test_split\n",
    "X_train, X_test, y_train, y_test = train_test_split(X_train, y_train)\n",
    "X_train.shape, X_test.shape\n",
    "X_train, X_test, y_train, y_test = train_test_split(X_train, y_train)\n",
    "X_train.shape, X_test.shape\n",
    "model = LinearRegression(n_jobs=10)\n"
   ]
  },
  {
   "cell_type": "code",
   "execution_count": null,
   "metadata": {},
   "outputs": [],
   "source": [
    "## Esto no funcionó\n",
    "\n",
    "from sklearn.svm import SVC              #5.44\n",
    "from sklearn.model_selection import StratifiedKFold\n",
    "from sklearn.feature_selection import RFECV\n",
    "# Create the RFE object and compute a cross-validated score.\n",
    "svc = SVC(kernel=\"linear\")\n",
    "# The \"accuracy\" scoring is proportional to the number of correct\n",
    "# classifications\n",
    "rfecv = RFECV(estimator=svc, step=1, cv=StratifiedKFold(2),\n",
    "              scoring='accuracy')\n",
    "rfecv.fit(X_train,y_train)\n"
   ]
  },
  {
   "cell_type": "code",
   "execution_count": null,
   "metadata": {},
   "outputs": [],
   "source": [
    "print(\"Optimal number of features : %d\" % rfecv.n_features_)\n",
    "# Plot number of features VS. cross-validation scores\n",
    "plt.figure()\n",
    "plt.xlabel(\"Number of features selected\")\n",
    "plt.ylabel(\"Cross validation score (nb of correct classifications)\")\n",
    "plt.plot(range(1, len(rfecv.grid_scores_) + 1), rfecv.grid_scores_)\n",
    "plt.show()"
   ]
  },
  {
   "cell_type": "code",
   "execution_count": 24,
   "metadata": {},
   "outputs": [
    {
     "data": {
      "text/plain": [
       "SVC(C=1.0, cache_size=200, class_weight=None, coef0=0.0,\n",
       "  decision_function_shape='ovr', degree=3, gamma='auto', kernel='rbf',\n",
       "  max_iter=-1, probability=False, random_state=None, shrinking=True,\n",
       "  tol=0.001, verbose=False)"
      ]
     },
     "execution_count": 24,
     "metadata": {},
     "output_type": "execute_result"
    }
   ],
   "source": [
    "# Este ya no lo uso porque cambié el data set y ahora contiene variables dummies y se le aplicó RFE\n",
    "# Modelo de clasificación Support Vector Machines\n",
    "from sklearn import svm\n",
    "    \n",
    "modelSVM = svm.SVC()\n",
    "modelSVM.fit(X_train,y_train)\n",
    "modelSVM"
   ]
  },
  {
   "cell_type": "code",
   "execution_count": 25,
   "metadata": {},
   "outputs": [
    {
     "name": "stdout",
     "output_type": "stream",
     "text": [
      "[0.08066276 0.03478123 0.01714633 0.01159415 0.04807726 0.\n",
      " 0.         0.         0.00436466 0.0188719  0.02160618 0.03731385\n",
      " 0.         0.         0.         0.         0.         0.\n",
      " 0.0133801  0.         0.01766117 0.         0.         0.\n",
      " 0.         0.         0.07722563 0.         0.         0.\n",
      " 0.         0.         0.         0.         0.1934315  0.\n",
      " 0.         0.         0.         0.         0.01295645 0.15083095\n",
      " 0.         0.         0.         0.         0.01691919 0.\n",
      " 0.14222797 0.         0.01254287 0.         0.         0.02026839\n",
      " 0.         0.06813745 0.         0.         0.         0.\n",
      " 0.         0.         0.         0.         0.        ]\n"
     ]
    }
   ],
   "source": [
    "from sklearn.ensemble import RandomForestClassifier\n",
    "from sklearn.datasets import make_classification\n",
    "\n",
    "modelRF = RandomForestClassifier(max_depth=2, random_state=0)\n",
    "modelRF.fit(X_train,y_train)\n",
    "print(modelRF.feature_importances_)"
   ]
  },
  {
   "cell_type": "code",
   "execution_count": 26,
   "metadata": {},
   "outputs": [],
   "source": [
    "from sklearn import tree\n",
    "modelDecTree = tree.DecisionTreeClassifier()\n",
    "\n",
    "modelDecTree = modelDecTree.fit(X_train,y_train)\n",
    "#modelDecTree.predict(X_test,y_test)"
   ]
  },
  {
   "cell_type": "code",
   "execution_count": null,
   "metadata": {},
   "outputs": [],
   "source": [
    "from sklearn import neighbors\n",
    "from matplotlib.colors import ListedColormap\n",
    "\n",
    "n_neighbors = 15\n",
    "\n",
    "h = .02  # step size in the mesh\n",
    "\n",
    "# Create color maps\n",
    "cmap_light = ListedColormap(['orange', 'cyan', 'cornflowerblue'])\n",
    "cmap_bold = ListedColormap(['darkorange', 'c', 'darkblue'])\n",
    "\n",
    "for weights in ['uniform', 'distance']:\n",
    "    # we create an instance of Neighbours Classifier and fit the data.\n",
    "    modelKNN = neighbors.KNeighborsClassifier(n_neighbors, weights=weights)\n",
    "    modelKNN.fit(X_train,y_train)\n",
    "    \n",
    "    # Plot the decision boundary. For that, we will assign a color to each\n",
    "    # point in the mesh [x_min, x_max]x[y_min, y_max].\n",
    "    x_min, x_max = X_train[:, 0].min() - 1, X_train[:, 0].max() + 1\n",
    "    y_min, y_max = X_train[:, 1].min() - 1, X_train[:, 1].max() + 1\n",
    "    xx, yy = np.meshgrid(np.arange(x_min, x_max, h),\n",
    "                         np.arange(y_min, y_max, h))\n",
    "    Z = modelKNN.predict(np.c_[xx.ravel(), yy.ravel()])"
   ]
  }
 ],
 "metadata": {
  "kernelspec": {
   "display_name": "Python 3",
   "language": "python",
   "name": "python3"
  },
  "language_info": {
   "codemirror_mode": {
    "name": "ipython",
    "version": 3
   },
   "file_extension": ".py",
   "mimetype": "text/x-python",
   "name": "python",
   "nbconvert_exporter": "python",
   "pygments_lexer": "ipython3",
   "version": "3.6.5"
  }
 },
 "nbformat": 4,
 "nbformat_minor": 2
}
